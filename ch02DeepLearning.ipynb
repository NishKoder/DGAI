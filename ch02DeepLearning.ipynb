{
 "cells": [
  {
   "cell_type": "markdown",
   "id": "653089c9",
   "metadata": {},
   "source": [
    "# Chapter 2: Deep Learning with PyTorch\n",
    "\n",
    "\n",
    "\n",
    "\n",
    "***\n",
    "“The neural network is this kind of technology that is not an algorithm, it is a network that has weights on it, and you can adjust the weights so that it learns. You teach it through trials.”\n",
    "\n",
    "\n",
    "\n",
    "-- Howard Rheingold \n",
    "***\n",
    "\n",
    "\n",
    "Machine learning is one type of artificial intelligence. Instead of hard-coding in the rules, machine learning takes in input-output pairs and figures out the relation between the inputs (which we call features) and outputs (the labels). One field of machine learning, deep learning, has attracted much attention in recent years. Deep learning is one type of machine learning method that utilizes artificial neural networks. Almost all the recent advances in AI are powered by deep learning. We'll use deep learning to generate everything in this book: text, audio, images, figures, patterns. The name deep learning comes from the fact that the artificial neural networks have many layers of neurons in it. A typical large language model such as ChatGPT has hundreds, if not thousands, of layers in it. \n",
    "\n",
    "A neural network consists of an input layer, some hidden layers, and an output layer. In this chapter, we'll learn the basic structure of a neural network: neurons, weights, layers, activation functions, loss functions, optimizers and so on. You'll learn to create neural networks in this chapter to classify images of fashions into different categories such as bags, sneakers, or shirts. "
   ]
  },
  {
   "cell_type": "markdown",
   "id": "282ad876",
   "metadata": {},
   "source": [
    "# 1. What Are Neural Networks?"
   ]
  },
  {
   "cell_type": "markdown",
   "id": "de2d7767",
   "metadata": {},
   "source": [
    "This section discusses the basic structure of a neural network."
   ]
  },
  {
   "cell_type": "markdown",
   "id": "4db31da9",
   "metadata": {},
   "source": [
    "## 1.1. Elements of A Neural Network"
   ]
  },
  {
   "cell_type": "markdown",
   "id": "7252a608",
   "metadata": {},
   "source": [
    "A neural network consists of one input layer, one output layer, and a number of hidden layers. In general, each layer in a neural network has one or more neurons. Neural networks with two or more hidden layers are usually called deep neural networks. \n",
    "\n",
    "There are different types of layers in a neural network. The most common type of layer is the dense layer, in which each neuron is fully connected to the neurons in the next layer. \n",
    "\n",
    "The convolutional layers, in contrast, treats the input as a two-dimensional image and extract patterns from the input data. We'll discuss convolutional layers later in this book. "
   ]
  },
  {
   "cell_type": "markdown",
   "id": "5de48446",
   "metadata": {},
   "source": [
    "## 1.2. Activation Functions\n",
    "In artificial neural networks, activation functions transform inputs into outputs. As\n",
    "the name suggests, the activation functions activate the neuron when the input reaches a certain threshold. Simply put, activation functions are on-off switches in artificial neural networks. These on-off switches play an important role in making artificial neural networks powerful. The activation functions allow a network to learn more complex patterns in the data. Without activation functions, neural networks can only learn linear relationships in the data.\n"
   ]
  },
  {
   "cell_type": "markdown",
   "id": "d3d6f7d9",
   "metadata": {},
   "source": [
    "Activation functions help us create a nonlinear relationship between the inputs and outputs. Without them, we can only approximate linear relations. No matter how many hidden layers we add to the neural network, we cannot achieve a nonlinear relationship. Without activation functions, the neural network cannot learn a nonlinear relationship: the linear transformation of a linear relationship is still linear.\n",
    "\n",
    "ReLU is short for rectified linear unit activation function. It returns the original value if it’s positive, and 0 otherwise. It has the mathematical formula of \n",
    "$$ReLU(x)\\\n",
    "=\\{\\genfrac{}{}{0}{}{x\\ if \\ x>0}{0\\ if \\ x\\leq 0}$$\n",
    "\n",
    "It’s widely used in many neural networks, and you’ll see it in this book more often\n",
    "than any other type of activation function.\n",
    "In essence, the ReLU activation function activates the neuron when the value of x\n",
    "reaches the threshold value of zero. When the value of x is below zero, the neuron is\n",
    "switched off. This simply on-off switch is able to create a nonlinear relation between\n",
    "inputs and outputs."
   ]
  },
  {
   "cell_type": "markdown",
   "id": "3eeb40b6",
   "metadata": {},
   "source": [
    "Another commonly used activation function is the sigmoid function. It’s widely used in many machine learning models. In particular, it’s a must-have in any binary classification problem.\n",
    "The sigmoid function has the form\n",
    "$$y=\\frac {1} {1+e^{-x}} $$\n",
    "The sigmoid function has an S-shaped curve. It has this nice property: for any value\n",
    "of input x between −∞ and∞, the output value y is always between 0 and 1. Because\n",
    "of this property, we use the sigmoid activation function to model the probability of\n",
    "an outcome, which also falls between 0 and 1 (0 means there is no chance of the\n",
    "outcome occurring, while 1 the outcome occurring with 100% certainty)."
   ]
  },
  {
   "cell_type": "markdown",
   "id": "acbd9dd0",
   "metadata": {},
   "source": [
    "The third most-used activation function in this book is the softmax function. It’s a\n",
    "must-have in any multi-category classification problem.\n",
    "The softmax function has the form\n",
    "$$y(x)=\\frac {e^{x}} {\\sum_{k=1}^{K}e^{x_k}}$$\n",
    "where $x=[x_1,x_2,...,x_K]$ and $y=[y_1,y_2,...,y_K]$ are K-element lists. The i-th element of $y$ is \n",
    "$$y_i(x)=\\frac {e^{x_i}} {\\sum_{k=1}^{K}e^{x_k}}$$ \n",
    "The softmax function has a nice property: each element in the output vector $y$ is always between 0 and 1. Further, elements in the output vector $y$ sum up to 1. Because of this property, we use the softmax activation function to model the probability of a multiple outcome event. Therefore, the activation function in the output layer is always the softmax function when we model multi-class classification problems.  "
   ]
  },
  {
   "cell_type": "markdown",
   "id": "fc801428",
   "metadata": {},
   "source": [
    "Finally, we'll also use the tanh activation function when we train the actor-critic models later in this book. The Tanh activation function is similar to the sigmoid activation function in the sense that it also s-shaped. However, the output from the tanh activation function is in the range of -1 to 1 instead of from 0 to 1. The tanh activation function has the form\n",
    "$$y=\\frac {2} {1+e^{-2x}} -1$$ In machine learning, we usually normalize the image pixels to the range between -1 and 1 and the tanh activation function can accomplish that. "
   ]
  },
  {
   "cell_type": "markdown",
   "id": "8db08fb0",
   "metadata": {},
   "source": [
    "## 1.3. Loss Functions\n",
    "The loss function in ML is the objective function in the mathematical optimization process. Intuitively, the loss function measures the forecasting error of the machine learning algorithm. \n",
    "By minimizing the loss function, the machine learning model finds parameter values that\n",
    "lead to the best predictions. \n",
    "\n",
    "The most commonly used loss function is mean squared error (MSE). MSE is defined as $$MSE= \\frac{1}{N} \\sum_{i=1} ^{N} (Y_n-\\hat{Y}_n)^2$$\n",
    "\n",
    "where $Y_n$ is the actual value of the target variable (i.e., the label) and $\\hat{Y}_n$ is the predicted value of the target variable. \n",
    "To calculate MSE, we look at the forecasting error: the difference between the model’s predictions and the actual values. We then square the forecasting error for each observation, and average it across all observations. In short, it is the average squared forecasting error in each observation.\n"
   ]
  },
  {
   "cell_type": "markdown",
   "id": "7e556587",
   "metadata": {},
   "source": [
    "In binary classification problems, the preferred loss function is the binary cross-entropy function, which measures the average difference between the predicted probabilities and the actual labels (1 or 0). If a model makes a perfect prediction and assigns a 100% probability to all observations labeled 1 and a 0% probability to all observations labeled 0, the binary cross-entropy loss function will have a value of 0. \n",
    "\n",
    "Mathematically, the binary class-entropy loss function is defined as \n",
    "$$BinaryCrossEntropy= \\sum_{n=1} ^{N} -[Y_n\\times log(\\hat{Y}_n) + (1-Y_n)\\times log(1-\\hat{Y}_n)]$$\n",
    "where $\\hat{Y}_n$ is the estimated probability of observation n being class 1, and $Y_n$ is the actual label of observation n (which is either 0 or 1)."
   ]
  },
  {
   "cell_type": "markdown",
   "id": "6d1bcc97",
   "metadata": {},
   "source": [
    "The preferred loss function to use in multi-category classifications is the categorical-crossentropy loss function. It measures the average difference between the predicted distribution and the actual distribution. \n",
    "\n",
    "Mathematically, the categorical class-entropy loss function is defined as \n",
    "$$Categorical\\ Cross\\ Entropy= \\sum_{n=1} ^{N}\\sum_{k=1} ^{K} -y_{n,k}\\times log(\\hat{y}_{n,k})$$\n",
    "where $\\hat{y}_{n,k}$ is the estimated probability of observation n being class k, and $y_{n,k}$ is the actual label of observation n belonging to category k (which is either 0 or 1)."
   ]
  },
  {
   "cell_type": "markdown",
   "id": "9bcbdf00",
   "metadata": {},
   "source": [
    "# 2.  PyTorch Fashion MNIST Dataset\n",
    "In this section, you'll get used to the Fashion Modified National Institute of Standards and Technology (MNIST) dataset. Along the way, you'll learn how to use the *datasets* and *transforms* packages in the Torchvision library, as well as the *Dataloader* method in PyTorch packages that will benefit you for the rest of the book. You'll use these tools to preprocess data in many subsequent chapters. \n",
    "\n",
    "First, let's download the data and visualize the data. "
   ]
  },
  {
   "cell_type": "markdown",
   "id": "d8e0b2e3",
   "metadata": {},
   "source": [
    "## 2.1. Download and Visualize the Data\n",
    "You can download the Fashion MNIST data directly from Torchvision datasets. "
   ]
  },
  {
   "cell_type": "code",
   "execution_count": 1,
   "id": "c4823d8c",
   "metadata": {},
   "outputs": [],
   "source": [
    "import torch\n",
    "import torch.nn as nn\n",
    "import torchvision\n",
    "import torchvision.transforms as T\n",
    "import os\n",
    "os.environ[\"KMP_DUPLICATE_LIB_OK\"]=\"TRUE\"\n",
    "\n",
    "transform=T.Compose([\n",
    "    T.ToTensor(),\n",
    "    T.Normalize([0.5],[0.5])])"
   ]
  },
  {
   "cell_type": "markdown",
   "id": "84f1f903",
   "metadata": {},
   "source": [
    "The *transforms* package in Torchvision can help create a series of transformations to preprocess images. The *ToTensor()* class converts image data (in either PIL image formats or NumPy arrays) into PyTorch tensors. In particular, the image data are integers ranging from 0 to 255 and the *ToTensor()* class converts them to float tensors with values in the range of 0.0 and 1.0. \n",
    "\n",
    "The *Normalize()* class normalizes tensor images with mean and standard deviation for n channels. The Fashion MNIST data are grayscale images of clothes items so there is only one color channel. Later in this book we'll deal with images of three differnet coloar channels (RGB). In the code cell above, *Normalize([0.5],[0.5])* means that we subtract 0.5 from the data and divide the difference by 0.5. The resulting image data ranges from -1 to 1. \n",
    "\n",
    "Next, we use the *datasets* package in Torchvision to download the dataset to a folder on your computer and perform the transformation, like so:"
   ]
  },
  {
   "cell_type": "code",
   "execution_count": 2,
   "id": "91129836",
   "metadata": {},
   "outputs": [],
   "source": [
    "train_set=torchvision.datasets.FashionMNIST(root=r\"C:\\temp\",\n",
    "    train=True,download=True,transform=transform) \n",
    "test_set=torchvision.datasets.FashionMNIST(root=r\"C:\\temp\",\n",
    "    train=False,download=True,transform=transform)"
   ]
  },
  {
   "cell_type": "markdown",
   "id": "d22cd343",
   "metadata": {},
   "source": [
    "If you print out the first sample in the PyTorch tensor *train_set*, you'll see the following:"
   ]
  },
  {
   "cell_type": "code",
   "execution_count": 3,
   "id": "4e5da6b0",
   "metadata": {
    "scrolled": false
   },
   "outputs": [
    {
     "name": "stdout",
     "output_type": "stream",
     "text": [
      "(tensor([[[-1.0000, -1.0000, -1.0000, -1.0000, -1.0000, -1.0000, -1.0000,\n",
      "          -1.0000, -1.0000, -1.0000, -1.0000, -1.0000, -1.0000, -1.0000,\n",
      "          -1.0000, -1.0000, -1.0000, -1.0000, -1.0000, -1.0000, -1.0000,\n",
      "          -1.0000, -1.0000, -1.0000, -1.0000, -1.0000, -1.0000, -1.0000],\n",
      "         [-1.0000, -1.0000, -1.0000, -1.0000, -1.0000, -1.0000, -1.0000,\n",
      "          -1.0000, -1.0000, -1.0000, -1.0000, -1.0000, -1.0000, -1.0000,\n",
      "          -1.0000, -1.0000, -1.0000, -1.0000, -1.0000, -1.0000, -1.0000,\n",
      "          -1.0000, -1.0000, -1.0000, -1.0000, -1.0000, -1.0000, -1.0000],\n",
      "         [-1.0000, -1.0000, -1.0000, -1.0000, -1.0000, -1.0000, -1.0000,\n",
      "          -1.0000, -1.0000, -1.0000, -1.0000, -1.0000, -1.0000, -1.0000,\n",
      "          -1.0000, -1.0000, -1.0000, -1.0000, -1.0000, -1.0000, -1.0000,\n",
      "          -1.0000, -1.0000, -1.0000, -1.0000, -1.0000, -1.0000, -1.0000],\n",
      "         [-1.0000, -1.0000, -1.0000, -1.0000, -1.0000, -1.0000, -1.0000,\n",
      "          -1.0000, -1.0000, -1.0000, -1.0000, -1.0000, -0.9922, -1.0000,\n",
      "          -1.0000, -0.8980, -0.4275, -1.0000, -1.0000, -0.9922, -0.9686,\n",
      "          -1.0000, -1.0000, -1.0000, -1.0000, -0.9922, -0.9922, -1.0000],\n",
      "         [-1.0000, -1.0000, -1.0000, -1.0000, -1.0000, -1.0000, -1.0000,\n",
      "          -1.0000, -1.0000, -1.0000, -1.0000, -1.0000, -0.9765, -1.0000,\n",
      "          -0.7176,  0.0667, -0.0039, -0.5137, -0.5765, -1.0000, -1.0000,\n",
      "          -1.0000, -0.9922, -0.9765, -0.9686, -1.0000, -1.0000, -0.9765],\n",
      "         [-1.0000, -1.0000, -1.0000, -1.0000, -1.0000, -1.0000, -1.0000,\n",
      "          -1.0000, -1.0000, -1.0000, -1.0000, -1.0000, -0.9529, -1.0000,\n",
      "          -0.2000,  0.6000,  0.3804,  0.0510,  0.1294, -0.0353, -0.8196,\n",
      "          -1.0000, -1.0000, -1.0000, -1.0000, -0.9059, -0.9216, -1.0000],\n",
      "         [-1.0000, -1.0000, -1.0000, -1.0000, -1.0000, -1.0000, -1.0000,\n",
      "          -1.0000, -1.0000, -1.0000, -1.0000, -1.0000, -1.0000, -1.0000,\n",
      "           0.2157,  0.8510,  0.6235,  0.3961, -0.1608,  0.2235,  0.2627,\n",
      "          -0.1451, -0.4980, -0.8196, -0.3961,  0.0196, -0.4353, -0.8824],\n",
      "         [-1.0000, -1.0000, -1.0000, -1.0000, -1.0000, -1.0000, -1.0000,\n",
      "          -1.0000, -1.0000, -1.0000, -1.0000, -0.9922, -1.0000, -0.4588,\n",
      "           0.6235,  0.7490,  0.7098,  0.6941,  0.6941,  0.2784, -0.0039,\n",
      "          -0.0510, -0.0431,  0.1451,  0.1059, -0.3098,  0.3490, -0.4824],\n",
      "         [-1.0000, -1.0000, -1.0000, -1.0000, -1.0000, -1.0000, -1.0000,\n",
      "          -1.0000, -1.0000, -0.9922, -0.9922, -0.9922, -1.0000,  0.5686,\n",
      "           0.8196,  0.8196,  0.8275,  0.7961,  0.7490,  0.7490,  0.6863,\n",
      "           0.6706,  0.2863, -0.0039, -0.0353,  0.5373,  0.7961, -1.0000],\n",
      "         [-1.0000, -1.0000, -1.0000, -1.0000, -1.0000, -1.0000, -1.0000,\n",
      "          -1.0000, -1.0000, -1.0000, -1.0000, -1.0000, -1.0000,  0.4353,\n",
      "           0.7647,  0.6941,  0.7490,  0.7882,  0.8431,  0.7804,  0.7569,\n",
      "           0.7412,  0.7569,  0.7333,  0.7490,  0.9216,  0.3569, -1.0000],\n",
      "         [-1.0000, -1.0000, -1.0000, -1.0000, -1.0000, -1.0000, -1.0000,\n",
      "          -1.0000, -1.0000, -1.0000, -1.0000, -1.0000, -1.0000,  0.5137,\n",
      "           0.7882,  0.7098,  0.6706,  0.5529,  0.4118,  0.6627,  0.6471,\n",
      "           0.6549,  0.6706,  0.7490,  0.7255,  0.9059,  0.5843, -1.0000],\n",
      "         [-1.0000, -1.0000, -1.0000, -1.0000, -1.0000, -1.0000, -1.0000,\n",
      "          -1.0000, -1.0000, -0.9922, -0.9765, -1.0000, -0.9059,  0.7176,\n",
      "           0.7255,  0.6627,  0.7098,  0.5059,  0.3255,  0.7804,  0.6314,\n",
      "           0.7098,  0.7569,  0.6627,  0.7725,  0.5451,  0.6392, -0.5922],\n",
      "         [-1.0000, -1.0000, -1.0000, -1.0000, -1.0000, -1.0000, -1.0000,\n",
      "          -1.0000, -1.0000, -1.0000, -0.9529, -1.0000, -0.2235,  0.9137,\n",
      "           0.7412,  0.7255,  0.7098,  0.5922,  0.5529,  0.7333,  0.6863,\n",
      "           0.6706,  0.7412,  0.7255,  0.9216, -0.0667,  0.3098, -0.5608],\n",
      "         [-1.0000, -1.0000, -1.0000, -1.0000, -1.0000, -1.0000, -1.0000,\n",
      "          -1.0000, -1.0000, -0.9686, -1.0000, -1.0000, -0.5686,  0.8510,\n",
      "           0.7882,  0.8039,  0.7882,  0.8824,  0.8196,  0.6706,  0.7098,\n",
      "           0.7490,  0.8353,  0.7020,  0.7020,  0.6392, -0.2784, -1.0000],\n",
      "         [-1.0000, -1.0000, -0.9922, -0.9686, -0.9529, -0.9451, -0.9843,\n",
      "          -1.0000, -1.0000, -1.0000, -1.0000, -1.0000,  0.8588,  0.7725,\n",
      "           0.7020,  0.7490,  0.7412,  0.7176,  0.7412,  0.7333,  0.6941,\n",
      "           0.7490,  0.7961,  0.6863,  0.7098,  1.0000, -0.3961, -1.0000],\n",
      "         [-1.0000, -0.9765, -1.0000, -1.0000, -1.0000, -1.0000, -1.0000,\n",
      "          -1.0000, -1.0000, -0.5137,  0.1373,  0.6000,  0.7882,  0.6235,\n",
      "           0.6706,  0.7333,  0.7098,  0.6314,  0.6549,  0.7098,  0.7569,\n",
      "           0.7490,  0.7176,  0.6863,  0.7569,  0.9137,  0.2471, -1.0000],\n",
      "         [-1.0000, -1.0000, -1.0000, -1.0000, -0.8588, -0.6549, -0.3569,\n",
      "          -0.1608,  0.4824,  0.7882,  0.7255,  0.7412,  0.7020,  0.7725,\n",
      "           0.5686,  0.6078,  0.6549,  0.8039,  0.7569,  0.8353,  0.3804,\n",
      "           0.4745,  0.9608,  0.9451,  0.8275,  0.8667,  0.6863, -1.0000],\n",
      "         [-1.0000, -0.5529,  0.4667,  0.6314,  0.7569,  0.7333,  0.7569,\n",
      "           0.6314,  0.6000,  0.6784,  0.6314,  0.6392,  0.5686,  0.2471,\n",
      "           0.9216,  0.5137,  0.6157,  0.7490,  1.0000,  1.0000,  0.7333,\n",
      "           0.8353,  0.7333,  0.6549,  0.7255,  0.8196,  0.9294, -1.0000],\n",
      "         [-0.9765,  0.5843,  0.7882,  0.7569,  0.7333,  0.6549,  0.6549,\n",
      "           0.6784,  0.6078,  0.6078,  0.6078,  0.7255,  0.8824, -0.3725,\n",
      "           0.1765,  1.0000,  0.7961,  0.7333,  0.4745,  0.2078,  0.4980,\n",
      "           0.6471,  0.6000,  0.6392,  0.7412,  0.7882,  0.7647, -1.0000],\n",
      "         [-0.2314,  0.8275,  0.5529,  0.6471,  0.7412,  0.7961,  0.7961,\n",
      "           0.8353,  0.9529,  0.7255,  0.5216,  0.6863,  0.7020,  0.8902,\n",
      "          -0.4902, -0.4275, -0.1686, -0.0824,  0.3176,  0.7176,  0.7333,\n",
      "           0.6863,  0.7020,  0.7490,  0.7490,  0.7569,  0.7961, -0.7725],\n",
      "         [-0.4118,  0.6000,  0.6627,  0.6000,  0.5137,  0.6078,  0.6549,\n",
      "           0.7647,  0.6941,  0.4510,  0.5451,  0.6157,  0.5529,  0.6706,\n",
      "           0.8824,  0.5294,  0.7804,  0.9216,  0.8745,  0.7490,  0.7098,\n",
      "           0.6627,  0.6392,  0.7412,  0.7255,  0.7333,  0.8039, -0.4745],\n",
      "         [-0.6235,  0.5922,  0.4353,  0.5216,  0.6706,  0.5451,  0.4510,\n",
      "           0.4902,  0.5216,  0.5059,  0.5843,  0.6784,  0.7176,  0.7333,\n",
      "           0.7255,  0.8510,  0.7647,  0.6941,  0.5608,  0.6157,  0.4588,\n",
      "           0.4196,  0.3882,  0.3490,  0.4196,  0.6078,  0.6157, -0.0980],\n",
      "         [-1.0000, -0.0431,  0.7176,  0.5137,  0.4039,  0.3412,  0.4353,\n",
      "           0.5373,  0.6000,  0.6471,  0.6706,  0.6235,  0.6549,  0.6471,\n",
      "           0.5686,  0.5373,  0.5216,  0.4980,  0.5294,  0.4980,  0.5529,\n",
      "           0.5059,  0.3804,  0.2235,  0.3098,  0.3882,  0.6471, -0.2784],\n",
      "         [-1.0000, -1.0000, -0.4196,  0.4824,  0.6627,  0.4980,  0.3725,\n",
      "           0.3490,  0.3725,  0.4196,  0.4510,  0.4745,  0.4824,  0.4745,\n",
      "           0.5137,  0.5529,  0.6000,  0.6392,  0.6471,  0.6471,  0.6549,\n",
      "           0.4745,  0.4745,  0.5216,  0.5059,  0.6941,  0.3333, -1.0000],\n",
      "         [-0.9843, -1.0000, -1.0000, -1.0000, -0.4824,  0.5686,  0.7412,\n",
      "           0.8588,  0.8745,  0.8980,  0.9294,  0.9059,  0.9137,  0.7333,\n",
      "           0.7255,  0.5137,  0.4980,  0.4039,  0.4275,  0.4275,  0.4196,\n",
      "           0.3804,  0.3020,  0.3176, -0.2235, -0.5451, -1.0000, -1.0000],\n",
      "         [-1.0000, -1.0000, -1.0000, -1.0000, -1.0000, -1.0000, -1.0000,\n",
      "          -0.6863, -0.5216, -0.6549, -0.4353, -0.6784, -0.7255, -1.0000,\n",
      "          -1.0000, -1.0000, -1.0000, -1.0000, -1.0000, -1.0000, -1.0000,\n",
      "          -1.0000, -1.0000, -1.0000, -1.0000, -1.0000, -1.0000, -1.0000],\n",
      "         [-1.0000, -1.0000, -1.0000, -1.0000, -1.0000, -1.0000, -1.0000,\n",
      "          -1.0000, -1.0000, -1.0000, -1.0000, -1.0000, -1.0000, -1.0000,\n",
      "          -1.0000, -1.0000, -1.0000, -1.0000, -1.0000, -1.0000, -1.0000,\n",
      "          -1.0000, -1.0000, -1.0000, -1.0000, -1.0000, -1.0000, -1.0000],\n",
      "         [-1.0000, -1.0000, -1.0000, -1.0000, -1.0000, -1.0000, -1.0000,\n",
      "          -1.0000, -1.0000, -1.0000, -1.0000, -1.0000, -1.0000, -1.0000,\n",
      "          -1.0000, -1.0000, -1.0000, -1.0000, -1.0000, -1.0000, -1.0000,\n",
      "          -1.0000, -1.0000, -1.0000, -1.0000, -1.0000, -1.0000, -1.0000]]]), 9)\n"
     ]
    }
   ],
   "source": [
    "print(train_set[0])"
   ]
  },
  {
   "cell_type": "markdown",
   "id": "e4d6ad2c",
   "metadata": {},
   "source": [
    "The first sample consists of a tensor with 784 values and a label 9. The 784 numbers are the values in the 28 by 28 grayscale image, and label 9 means it's an ankle boot. "
   ]
  },
  {
   "cell_type": "markdown",
   "id": "e7e86785",
   "metadata": {},
   "source": [
    "There are ten different types of clothes items, and the text labels are as follows:"
   ]
  },
  {
   "cell_type": "code",
   "execution_count": 4,
   "id": "3f2cf641",
   "metadata": {},
   "outputs": [],
   "source": [
    "text_labels = ['t-shirt', 'trouser', 'pullover', 'dress', 'coat',\n",
    "                'sandal', 'shirt', 'sneaker', 'bag', 'ankle boot']"
   ]
  },
  {
   "cell_type": "markdown",
   "id": "c8464733",
   "metadata": {},
   "source": [
    "The labels in the dataset are numbers from 0 to 9. The list *text_labels* can convert the number labels to text labels. For example, if an item has a label of 0 in the dataset, the corresponding text label is \"t-shirt\". \n",
    "\n",
    "We can plot the data to visualize the clothes items in the dataset:"
   ]
  },
  {
   "cell_type": "code",
   "execution_count": 5,
   "id": "0940e14e",
   "metadata": {},
   "outputs": [
    {
     "data": {
      "image/png": "[encoded data removed]",
      "text/plain": [
       "<Figure size 640x480 with 32 Axes>"
      ]
     },
     "metadata": {},
     "output_type": "display_data"
    }
   ],
   "source": [
    "import matplotlib.pyplot as plt\n",
    "\n",
    "for i in range(32):\n",
    "    ax = plt.subplot(4, 8, i + 1)\n",
    "    plt.imshow((train_set[i][0]/2+0.5).reshape(28, 28))\n",
    "    plt.xticks([])\n",
    "    plt.yticks([])\n",
    "    plt.title(text_labels[train_set[i][1]],fontsize=8)\n",
    "plt.show()"
   ]
  },
  {
   "cell_type": "markdown",
   "id": "aba706c3",
   "metadata": {},
   "source": [
    "The picture shows 32 clothes items such as coats, pullovers, sandals and so on. \n",
    "\n",
    "Next, we'll create batches of data for training. "
   ]
  },
  {
   "cell_type": "markdown",
   "id": "cd8c5b19",
   "metadata": {},
   "source": [
    "## 2.2. Create Batches \n",
    "Most deep learning algorithms are either a binary classification problem or a multi-category classification problem. For example in Generative Adversarial Networks (GANs), the discriminator essentially performs a binary classification task: to determine if the sample created by the generator is real or fake. In text generation models (either recurrent neural networks or Transformers), the model is trying to predict the next character or the next word, among many different choices. Therefore, it's important that we know how to create deep neural networks to perform binary and multi-category classification problems. \n",
    "\n",
    "Let's start with a binary classification example. We'll create a training set and a test set that contain only two types of clothes: t-shirts or ankle boots. The code cell below accomplishes that goal:"
   ]
  },
  {
   "cell_type": "code",
   "execution_count": 6,
   "id": "fc2f8827",
   "metadata": {},
   "outputs": [],
   "source": [
    "binary_train_set = [x for x in train_set if x[1] in [0,9]]\n",
    "binary_test_set = [x for x in test_set if x[1] in [0,9]]"
   ]
  },
  {
   "cell_type": "markdown",
   "id": "25216c46",
   "metadata": {},
   "source": [
    "We only keep samples with labels 0 or 9. Let's check the sample size as follows:"
   ]
  },
  {
   "cell_type": "code",
   "execution_count": 7,
   "id": "6db4ea45",
   "metadata": {},
   "outputs": [
    {
     "name": "stdout",
     "output_type": "stream",
     "text": [
      "60000\n",
      "10000\n",
      "12000\n",
      "2000\n"
     ]
    }
   ],
   "source": [
    "print(len(train_set))\n",
    "print(len(test_set))\n",
    "print(len(binary_train_set))\n",
    "print(len(binary_test_set))"
   ]
  },
  {
   "cell_type": "markdown",
   "id": "db511f44",
   "metadata": {},
   "source": [
    "There are 60,000 images in the training set, and 10,000 images in the test set. The binary training and test sets have 12,000 and 2,000 images, respectively.\n",
    "\n",
    "Next, we create batches to prepare for training the deep neural network:"
   ]
  },
  {
   "cell_type": "code",
   "execution_count": 8,
   "id": "8a6a600a",
   "metadata": {},
   "outputs": [],
   "source": [
    "batch_size=64\n",
    "train_loader=torch.utils.data.DataLoader(\n",
    "    train_set,batch_size=batch_size,shuffle=True)\n",
    "test_loader=torch.utils.data.DataLoader(\n",
    "    test_set,batch_size=batch_size,shuffle=True)\n",
    "binary_train_loader=torch.utils.data.DataLoader(\n",
    "    binary_train_set,batch_size=batch_size,shuffle=True)\n",
    "binary_test_loader=torch.utils.data.DataLoader(\n",
    "    binary_test_set,batch_size=batch_size,shuffle=True)"
   ]
  },
  {
   "cell_type": "markdown",
   "id": "4afb7be7",
   "metadata": {},
   "source": [
    "The DataLoader class in the PyTorch *utils* package helps create data iterators in batches. We set the batch size to 64. "
   ]
  },
  {
   "cell_type": "markdown",
   "id": "39e27a43",
   "metadata": {},
   "source": [
    "# 3. Binary Classification\n",
    "We'll first create a binary classification model. We train the model by using the images of t-shirts and ankle boots. Once it's trained, we can see if the model can tell t-shirts from ankle boots. "
   ]
  },
  {
   "cell_type": "markdown",
   "id": "4bd8eed1",
   "metadata": {},
   "source": [
    "## 3.1. Create A Neural Network for Binary Classification\n",
    "We first use PyTorch to create the following neural network:"
   ]
  },
  {
   "cell_type": "code",
   "execution_count": 9,
   "id": "1579eddb",
   "metadata": {},
   "outputs": [],
   "source": [
    "device=\"cuda\" if torch.cuda.is_available() else \"cpu\"\n",
    "binary_model=nn.Sequential(\n",
    "    nn.Linear(28*28,256),\n",
    "    nn.ReLU(),\n",
    "    nn.Linear(256,128),\n",
    "    nn.ReLU(),\n",
    "    nn.Linear(128,32),\n",
    "    nn.ReLU(),\n",
    "    nn.Linear(32,1),\n",
    "    nn.Dropout(p=0.25),\n",
    "    nn.Sigmoid()).to(device)"
   ]
  },
  {
   "cell_type": "markdown",
   "id": "21f26be1",
   "metadata": {},
   "source": [
    "The input shape is 784 because we flatten the two-dimensinal image into a one dimensional vector with $28\\times28=784$ values in it. There are three hidden layers in the network. Make sure the number of inputs matches the number of outputs in the previous layer. \n",
    "\n",
    "The output is a signle value, and we use the Sigmoid activation function to squeeze the number to the range [0, 1] so it can be interpreted as the probability that the object is an ankle boot. With complementary probability 1-p, the object is a t-shirt. "
   ]
  },
  {
   "cell_type": "markdown",
   "id": "59f7afb2",
   "metadata": {},
   "source": [
    "We also set the learning rate as well as the optimizer and the loss function:"
   ]
  },
  {
   "cell_type": "code",
   "execution_count": 10,
   "id": "e43a3126",
   "metadata": {},
   "outputs": [],
   "source": [
    "lr=0.001\n",
    "optimizer=torch.optim.Adam(binary_model.parameters(),lr=lr)\n",
    "loss_fn=nn.BCELoss()"
   ]
  },
  {
   "cell_type": "markdown",
   "id": "441286c7",
   "metadata": {},
   "source": [
    "## 3.2. Train the Binary Classifier\n",
    "We'll train the neural network we just created in the last subsection. We first preprocess the data so that we can feed them into the models."
   ]
  },
  {
   "cell_type": "markdown",
   "id": "1f9bc75d",
   "metadata": {},
   "source": [
    "We'll convert both the game states and the moves into one-hot variables so that the deep neural network can process them. "
   ]
  },
  {
   "cell_type": "code",
   "execution_count": 11,
   "id": "96e2ab86",
   "metadata": {},
   "outputs": [
    {
     "name": "stdout",
     "output_type": "stream",
     "text": [
      "at epoch 0, loss is 0.07235904037952423\n",
      "at epoch 1, loss is 0.17329557240009308\n",
      "at epoch 2, loss is 0.04364901781082153\n",
      "at epoch 3, loss is 0.15243539214134216\n",
      "at epoch 4, loss is 0.23914611339569092\n",
      "at epoch 5, loss is 0.10836239159107208\n",
      "at epoch 6, loss is 0.1516551673412323\n",
      "at epoch 7, loss is 0.15162622928619385\n",
      "at epoch 8, loss is 0.15162639319896698\n",
      "at epoch 9, loss is 0.15162596106529236\n",
      "at epoch 10, loss is 0.19494764506816864\n",
      "at epoch 11, loss is 0.15162718296051025\n",
      "at epoch 12, loss is 0.21660871803760529\n",
      "at epoch 13, loss is 0.23826934397220612\n",
      "at epoch 14, loss is 0.23826934397220612\n",
      "at epoch 15, loss is 0.21660849452018738\n",
      "at epoch 16, loss is 0.10830424726009369\n",
      "at epoch 17, loss is 0.21660849452018738\n",
      "at epoch 18, loss is 0.10830424726009369\n",
      "at epoch 19, loss is 0.15162594616413116\n",
      "at epoch 20, loss is 0.1732867956161499\n",
      "at epoch 21, loss is 0.2815912961959839\n",
      "at epoch 22, loss is 0.1732867956161499\n",
      "at epoch 23, loss is 0.12996509671211243\n",
      "at epoch 24, loss is 0.25993019342422485\n",
      "at epoch 25, loss is 0.1732867956161499\n",
      "at epoch 26, loss is 0.15162594616413116\n",
      "at epoch 27, loss is 0.2815910577774048\n",
      "at epoch 28, loss is 0.10830424726009369\n",
      "at epoch 29, loss is 0.19494764506816864\n",
      "at epoch 30, loss is 0.23826934397220612\n",
      "at epoch 31, loss is 0.15162594616413116\n",
      "at epoch 32, loss is 0.23826934397220612\n",
      "at epoch 33, loss is 0.19494764506816864\n",
      "at epoch 34, loss is 0.1732867956161499\n",
      "at epoch 35, loss is 0.08664339780807495\n",
      "at epoch 36, loss is 0.21660849452018738\n",
      "at epoch 37, loss is 0.1732867956161499\n",
      "at epoch 38, loss is 0.21660849452018738\n",
      "at epoch 39, loss is 0.15162594616413116\n",
      "at epoch 40, loss is 0.12996509671211243\n",
      "at epoch 41, loss is 0.21660849452018738\n",
      "at epoch 42, loss is 0.12996509671211243\n",
      "at epoch 43, loss is 0.19494764506816864\n",
      "at epoch 44, loss is 0.15162594616413116\n",
      "at epoch 45, loss is 0.15162594616413116\n",
      "at epoch 46, loss is 0.19494764506816864\n",
      "at epoch 47, loss is 0.15162594616413116\n",
      "at epoch 48, loss is 0.21660849452018738\n",
      "at epoch 49, loss is 0.1732867956161499\n",
      "at epoch 50, loss is 0.12996509671211243\n",
      "at epoch 51, loss is 0.23826934397220612\n",
      "at epoch 52, loss is 0.12996509671211243\n",
      "at epoch 53, loss is 0.08664339780807495\n",
      "at epoch 54, loss is 0.15162596106529236\n",
      "at epoch 55, loss is 0.10830424726009369\n",
      "at epoch 56, loss is 0.08664339780807495\n",
      "at epoch 57, loss is 0.10830424726009369\n",
      "at epoch 58, loss is 0.23826934397220612\n",
      "at epoch 59, loss is 0.08664339780807495\n",
      "at epoch 60, loss is 0.12996509671211243\n",
      "at epoch 61, loss is 0.1732867956161499\n",
      "at epoch 62, loss is 0.19494764506816864\n",
      "at epoch 63, loss is 0.1732867956161499\n",
      "at epoch 64, loss is 0.12996509671211243\n",
      "at epoch 65, loss is 0.15162594616413116\n",
      "at epoch 66, loss is 0.08664339780807495\n",
      "at epoch 67, loss is 0.1732867956161499\n",
      "at epoch 68, loss is 0.12996509671211243\n",
      "at epoch 69, loss is 0.1732867956161499\n",
      "at epoch 70, loss is 0.12996509671211243\n",
      "at epoch 71, loss is 0.12996509671211243\n",
      "at epoch 72, loss is 0.12996509671211243\n",
      "at epoch 73, loss is 0.15162594616413116\n",
      "at epoch 74, loss is 0.25993019342422485\n",
      "at epoch 75, loss is 0.19494764506816864\n",
      "at epoch 76, loss is 0.12996509671211243\n",
      "at epoch 77, loss is 0.08664339780807495\n",
      "at epoch 78, loss is 0.25993019342422485\n",
      "at epoch 79, loss is 0.15162594616413116\n",
      "at epoch 80, loss is 0.15162594616413116\n",
      "at epoch 81, loss is 0.10830424726009369\n",
      "at epoch 82, loss is 0.12996509671211243\n",
      "at epoch 83, loss is 0.10830424726009369\n",
      "at epoch 84, loss is 0.23826934397220612\n",
      "at epoch 85, loss is 0.19494764506816864\n",
      "at epoch 86, loss is 0.08664339780807495\n",
      "at epoch 87, loss is 0.08664339780807495\n",
      "at epoch 88, loss is 0.19494764506816864\n",
      "at epoch 89, loss is 0.15162594616413116\n",
      "at epoch 90, loss is 0.19494764506816864\n",
      "at epoch 91, loss is 0.19494764506816864\n",
      "at epoch 92, loss is 0.21660849452018738\n",
      "at epoch 93, loss is 0.12996509671211243\n",
      "at epoch 94, loss is 0.1732867956161499\n",
      "at epoch 95, loss is 0.1732867956161499\n",
      "at epoch 96, loss is 0.15162594616413116\n",
      "at epoch 97, loss is 0.19494764506816864\n",
      "at epoch 98, loss is 0.1732867956161499\n",
      "at epoch 99, loss is 0.15162594616413116\n"
     ]
    }
   ],
   "source": [
    "for i in range(100):\n",
    "    for imgs,labels in binary_train_loader:\n",
    "        tloss=0\n",
    "        imgs=imgs.reshape(-1,28*28).to(device)\n",
    "        labels=(labels/9).reshape(-1,1).to(device)\n",
    "        preds=binary_model(imgs)\n",
    "        loss=loss_fn(preds,labels)\n",
    "        optimizer.zero_grad()\n",
    "        loss.backward()\n",
    "        optimizer.step()\n",
    "        tloss+=loss\n",
    "    print(f\"at epoch {i}, loss is {tloss}\")"
   ]
  },
  {
   "cell_type": "markdown",
   "id": "37fd191b",
   "metadata": {},
   "source": [
    "Note here that we divide the labels by 9: since we only keep t-shirts and ankle boots, and their labels are 0 and 9, respectively. If we divide the labels by 9, the labels for the two categories of items are 0 and 1, respectively. In binary classification, we label the targets as 0s and 1s. "
   ]
  },
  {
   "cell_type": "markdown",
   "id": "8b065296",
   "metadata": {},
   "source": [
    "## 3.3. Calculate the Accuracy of the Binary Classifier"
   ]
  },
  {
   "cell_type": "markdown",
   "id": "bfa39a7d",
   "metadata": {},
   "source": [
    "After 100 epochs of training, the loss is in the 0.1 to 0.2 range. However, it's hard for us to tell the performance of the predictions. We therefore calculate the accuracies of the predictions. \n",
    "\n",
    "The output is a number between 0 and 1. We'll use torch.where() to convert the prediction into 0s and 1s and compare them to the label. If the probability if less than 0.5, we label the prediction as 0. Otherwise we label the prediction as 1. \n",
    "\n",
    "Let's use one batch of data to illustrate. "
   ]
  },
  {
   "cell_type": "code",
   "execution_count": 12,
   "id": "7d3f075b",
   "metadata": {},
   "outputs": [
    {
     "name": "stdout",
     "output_type": "stream",
     "text": [
      "the labels are tensor([1., 0., 0., 0., 1., 1., 1., 0., 1., 0., 1., 1., 1., 0., 1., 0., 0., 0.,\n",
      "        1., 0., 1., 0., 1., 0., 1., 1., 1., 1., 1., 0., 1., 0., 0., 1., 1., 1.,\n",
      "        1., 1., 0., 0., 1., 0., 0., 0., 0., 0., 0., 0., 1., 0., 0., 1., 0., 0.,\n",
      "        0., 1., 0., 0., 0., 1., 0., 1., 0., 1.])\n",
      "the predictions are tensor([[1.0000e+00],\n",
      "        [0.0000e+00],\n",
      "        [5.0000e-01],\n",
      "        [5.0000e-01],\n",
      "        [1.0000e+00],\n",
      "        [1.0000e+00],\n",
      "        [1.0000e+00],\n",
      "        [5.0000e-01],\n",
      "        [5.0000e-01],\n",
      "        [5.0000e-01],\n",
      "        [1.0000e+00],\n",
      "        [5.0000e-01],\n",
      "        [1.0000e+00],\n",
      "        [1.5592e-21],\n",
      "        [1.0000e+00],\n",
      "        [8.2257e-35],\n",
      "        [4.7033e-19],\n",
      "        [5.0000e-01],\n",
      "        [1.0000e+00],\n",
      "        [5.0000e-01],\n",
      "        [1.0000e+00],\n",
      "        [2.4599e-30],\n",
      "        [1.0000e+00],\n",
      "        [5.0000e-01],\n",
      "        [5.0000e-01],\n",
      "        [1.0000e+00],\n",
      "        [5.0000e-01],\n",
      "        [1.0000e+00],\n",
      "        [1.0000e+00],\n",
      "        [5.0000e-01],\n",
      "        [1.0000e+00],\n",
      "        [5.0000e-01],\n",
      "        [5.0000e-01],\n",
      "        [1.0000e+00],\n",
      "        [1.0000e+00],\n",
      "        [5.0000e-01],\n",
      "        [5.0000e-01],\n",
      "        [1.0000e+00],\n",
      "        [3.1809e-25],\n",
      "        [3.2794e-36],\n",
      "        [1.0000e+00],\n",
      "        [0.0000e+00],\n",
      "        [3.1534e-31],\n",
      "        [5.9442e-39],\n",
      "        [1.5879e-17],\n",
      "        [5.0000e-01],\n",
      "        [5.5239e-35],\n",
      "        [7.3466e-14],\n",
      "        [5.0000e-01],\n",
      "        [0.0000e+00],\n",
      "        [1.0336e-36],\n",
      "        [1.0000e+00],\n",
      "        [5.0000e-01],\n",
      "        [5.0000e-01],\n",
      "        [6.3318e-22],\n",
      "        [1.0000e+00],\n",
      "        [7.0733e-22],\n",
      "        [3.4909e-28],\n",
      "        [1.8223e-35],\n",
      "        [1.0000e+00],\n",
      "        [4.5673e-25],\n",
      "        [5.0000e-01],\n",
      "        [5.8310e-36],\n",
      "        [1.0000e+00]], device='cuda:0', grad_fn=<SigmoidBackward0>)\n"
     ]
    }
   ],
   "source": [
    "imgs,labels = next(iter(binary_test_loader))\n",
    "imgs=imgs.reshape(-1,28*28).to(device)\n",
    "labels=labels/9\n",
    "preds=binary_model(imgs)\n",
    "print(f\"the labels are {labels}\")\n",
    "print(f\"the predictions are {preds}\")"
   ]
  },
  {
   "cell_type": "markdown",
   "id": "a27f8088",
   "metadata": {},
   "source": [
    "The predictions are float numbers between 0 and 1. We'll convert them into either 0 or 1, using 0.5 as the cutoff value. "
   ]
  },
  {
   "cell_type": "code",
   "execution_count": 13,
   "id": "41d3c94f",
   "metadata": {},
   "outputs": [
    {
     "name": "stdout",
     "output_type": "stream",
     "text": [
      "[1 0 0 0 1 1 1 0 0 0 1 0 1 0 1 0 0 0 1 0 1 0 1 0 0 1 0 1 1 0 1 0 0 1 1 0 0\n",
      " 1 0 0 1 0 0 0 0 0 0 0 0 0 0 1 0 0 0 1 0 0 0 1 0 0 0 1]\n"
     ]
    }
   ],
   "source": [
    "binary_preds=torch.where(preds>0.5,1,0).detach().cpu().numpy().reshape(-1,)\n",
    "print(binary_preds)"
   ]
  },
  {
   "cell_type": "markdown",
   "id": "103db52b",
   "metadata": {},
   "source": [
    "Now the predictions are either 0 (i.e., a t-shirt) or 1 (an ankle boot). We can now compare the prediction with the actual label and see how many times the model got it right. "
   ]
  },
  {
   "cell_type": "code",
   "execution_count": 14,
   "id": "be95ee77",
   "metadata": {},
   "outputs": [
    {
     "name": "stdout",
     "output_type": "stream",
     "text": [
      "[ True  True  True  True  True  True  True  True False  True  True False\n",
      "  True  True  True  True  True  True  True  True  True  True  True  True\n",
      " False  True False  True  True  True  True  True  True  True  True False\n",
      " False  True  True  True  True  True  True  True  True  True  True  True\n",
      " False  True  True  True  True  True  True  True  True  True  True  True\n",
      "  True False  True  True]\n"
     ]
    }
   ],
   "source": [
    "correct=(binary_preds==labels.cpu().numpy())\n",
    "print(correct)"
   ]
  },
  {
   "cell_type": "markdown",
   "id": "8300ac7e",
   "metadata": {},
   "source": [
    "There above results show that the model made 56 correct predictions and 8 wroing predictions. We can calculate the accuracy in the first batch as follows:"
   ]
  },
  {
   "cell_type": "code",
   "execution_count": 15,
   "id": "607ad5a7",
   "metadata": {},
   "outputs": [
    {
     "name": "stdout",
     "output_type": "stream",
     "text": [
      "the accuracy of the predictions is 0.875\n"
     ]
    }
   ],
   "source": [
    "accuracy=correct.mean()\n",
    "print(f\"the accuracy of the predictions is {accuracy}\")"
   ]
  },
  {
   "cell_type": "markdown",
   "id": "43472ce9",
   "metadata": {},
   "source": [
    "The accuracy is 87.5%. \n",
    "\n",
    "Now now calculate the accuracy of the predictions in the whole test dataset as follows:"
   ]
  },
  {
   "cell_type": "code",
   "execution_count": 16,
   "id": "16d6ea3b",
   "metadata": {},
   "outputs": [
    {
     "name": "stdout",
     "output_type": "stream",
     "text": [
      "the accuracy of the predictions is 0.857421875\n"
     ]
    }
   ],
   "source": [
    "import numpy as np\n",
    "\n",
    "results=[]\n",
    "for imgs,labels in binary_test_loader:\n",
    "    imgs=imgs.reshape(-1,28*28).to(device)\n",
    "    labels=(labels/9).reshape(-1,1).to(device)\n",
    "    preds=binary_model(imgs)\n",
    "    pred10=torch.where(preds>0.5,1,0)\n",
    "    correct=(pred10==labels)\n",
    "    results.append(correct.detach().cpu().numpy().mean())\n",
    "accuracy=np.array(results).mean()\n",
    "print(f\"the accuracy of the predictions is {accuracy}\")    "
   ]
  },
  {
   "cell_type": "markdown",
   "id": "5f44ee9b",
   "metadata": {},
   "source": [
    "## 3.4. Save and Load Models"
   ]
  },
  {
   "cell_type": "markdown",
   "id": "38464156",
   "metadata": {},
   "source": [
    "We can save the trained PyTorch model by saving the trainable parameters in the neural network as follows:"
   ]
  },
  {
   "cell_type": "code",
   "execution_count": 17,
   "id": "a27cef0c",
   "metadata": {},
   "outputs": [],
   "source": [
    "sd=binary_model.state_dict()\n",
    "torch.save(sd,\"binary_model.pth\")"
   ]
  },
  {
   "cell_type": "markdown",
   "id": "1af38123",
   "metadata": {},
   "source": [
    "You should be able to see the file *binary_model.pth* in the local folder. Later, you can load up the model weights as follows: "
   ]
  },
  {
   "cell_type": "code",
   "execution_count": 18,
   "id": "46dc5772",
   "metadata": {},
   "outputs": [
    {
     "data": {
      "text/plain": [
       "<All keys matched successfully>"
      ]
     },
     "execution_count": 39,
     "metadata": {},
     "output_type": "execute_result"
    }
   ],
   "source": [
    "trained_weights=torch.load(\"binary_model.pth\",map_location=device)\n",
    "binary_model.load_state_dict(trained_weights)"
   ]
  },
  {
   "cell_type": "markdown",
   "id": "ec9ead30",
   "metadata": {},
   "source": [
    "# 4. Multi-Category Classification\n",
    "We use a binary classification model when there are only two different types of models. In the example we just saw, there are only two types of clothes: t-shirts or ankle boots. \n",
    "\n",
    "However, the Fashion MNIST dataset contains 10 different categories of clothes items. We therefore need to create a multi-category classification model to classify them. Next, you'll learn how to create such a model and train it. You'll also learn how to make predictions using the trained model and assess the accuracy of the predictions."
   ]
  },
  {
   "cell_type": "markdown",
   "id": "eceaac81",
   "metadata": {},
   "source": [
    "## 4.1. A Multi-Category Classification Model\n",
    "We use PyTorch to create the following neural network:"
   ]
  },
  {
   "cell_type": "code",
   "execution_count": 19,
   "id": "a58ee881",
   "metadata": {},
   "outputs": [],
   "source": [
    "model=nn.Sequential(\n",
    "    nn.Linear(28*28,256),\n",
    "    nn.ReLU(),\n",
    "    nn.Linear(256,128),\n",
    "    nn.ReLU(),\n",
    "    nn.Linear(128,64),\n",
    "    nn.ReLU(),\n",
    "    nn.Linear(64,10),\n",
    "    nn.Dropout(p=0.20),\n",
    "    nn.Softmax(dim=1)).to(device)"
   ]
  },
  {
   "cell_type": "markdown",
   "id": "af7caf4b",
   "metadata": {},
   "source": [
    "We made a few changes compared to the binary classification model. First, we changed the number of neurons in the last hidden layer from 32 to 64. Second, the output now has ten values in it, representing the ten different types of clothes items in the dataset. Finally, we use the Softmax activation function instead of the Sigmoid activation function to squeeze the ten numbers to the range [0,1]. Further, the sum of the ten numbers add up to 1. The ten outputs can be interpreted as the probabilities that the model assigns to the ten type of clothes items. "
   ]
  },
  {
   "cell_type": "markdown",
   "id": "582f4d1d",
   "metadata": {},
   "source": [
    "We'll use the same learning rate and optimizer as we did in binary classification. However, we now use the cross-entropy loss function to conduct our multi-category classifications. "
   ]
  },
  {
   "cell_type": "code",
   "execution_count": 20,
   "id": "eae696fc",
   "metadata": {},
   "outputs": [],
   "source": [
    "lr=0.001\n",
    "optimizer=torch.optim.Adam(model.parameters(),lr=lr)\n",
    "loss_fn=nn.CrossEntropyLoss()"
   ]
  },
  {
   "cell_type": "markdown",
   "id": "eebd60cb",
   "metadata": {},
   "source": [
    "## 3.2. Train the Multi-Category Classifier\n",
    "We'll train the multi-category classifier we just created. "
   ]
  },
  {
   "cell_type": "code",
   "execution_count": 21,
   "id": "5171db5e",
   "metadata": {},
   "outputs": [
    {
     "name": "stdout",
     "output_type": "stream",
     "text": [
      "at epoch 0, loss is 1.8682197332382202\n",
      "at epoch 1, loss is 1.74806809425354\n",
      "at epoch 2, loss is 1.600943684577942\n",
      "at epoch 3, loss is 1.7557909488677979\n",
      "at epoch 4, loss is 1.740663766860962\n",
      "at epoch 5, loss is 1.8098807334899902\n",
      "at epoch 6, loss is 1.6179778575897217\n",
      "at epoch 7, loss is 1.6752846240997314\n",
      "at epoch 8, loss is 1.5865466594696045\n",
      "at epoch 9, loss is 1.8008360862731934\n",
      "at epoch 10, loss is 1.6783758401870728\n",
      "at epoch 11, loss is 1.59035062789917\n",
      "at epoch 12, loss is 1.6547006368637085\n",
      "at epoch 13, loss is 1.7703169584274292\n",
      "at epoch 14, loss is 1.6401867866516113\n",
      "at epoch 15, loss is 1.6955989599227905\n",
      "at epoch 16, loss is 1.6618492603302002\n",
      "at epoch 17, loss is 1.5481544733047485\n",
      "at epoch 18, loss is 1.6552085876464844\n",
      "at epoch 19, loss is 1.8203868865966797\n",
      "at epoch 20, loss is 1.725070834159851\n",
      "at epoch 21, loss is 1.721309781074524\n",
      "at epoch 22, loss is 1.6328341960906982\n",
      "at epoch 23, loss is 1.7710052728652954\n",
      "at epoch 24, loss is 1.870588779449463\n",
      "at epoch 25, loss is 1.630739450454712\n",
      "at epoch 26, loss is 1.8856509923934937\n",
      "at epoch 27, loss is 1.680626630783081\n",
      "at epoch 28, loss is 1.8641438484191895\n",
      "at epoch 29, loss is 1.7842321395874023\n",
      "at epoch 30, loss is 1.757875919342041\n",
      "at epoch 31, loss is 1.7351018190383911\n",
      "at epoch 32, loss is 1.7173447608947754\n",
      "at epoch 33, loss is 1.6369597911834717\n",
      "at epoch 34, loss is 1.640410304069519\n",
      "at epoch 35, loss is 1.611375331878662\n",
      "at epoch 36, loss is 1.6859663724899292\n",
      "at epoch 37, loss is 1.7145222425460815\n",
      "at epoch 38, loss is 1.6467616558074951\n",
      "at epoch 39, loss is 1.6910432577133179\n",
      "at epoch 40, loss is 1.742400884628296\n",
      "at epoch 41, loss is 1.7771415710449219\n",
      "at epoch 42, loss is 1.5257045030593872\n",
      "at epoch 43, loss is 1.8560694456100464\n",
      "at epoch 44, loss is 1.674275517463684\n",
      "at epoch 45, loss is 1.7764132022857666\n",
      "at epoch 46, loss is 1.7547353506088257\n",
      "at epoch 47, loss is 1.6186494827270508\n",
      "at epoch 48, loss is 1.7178527116775513\n",
      "at epoch 49, loss is 1.8073352575302124\n",
      "at epoch 50, loss is 1.7237744331359863\n",
      "at epoch 51, loss is 1.6781879663467407\n",
      "at epoch 52, loss is 1.6400021314620972\n",
      "at epoch 53, loss is 1.8118464946746826\n",
      "at epoch 54, loss is 1.6712523698806763\n",
      "at epoch 55, loss is 1.9093546867370605\n",
      "at epoch 56, loss is 1.8243261575698853\n",
      "at epoch 57, loss is 1.7590481042861938\n",
      "at epoch 58, loss is 1.6920969486236572\n",
      "at epoch 59, loss is 1.6200157403945923\n",
      "at epoch 60, loss is 1.7095907926559448\n",
      "at epoch 61, loss is 1.8270748853683472\n",
      "at epoch 62, loss is 1.7548409700393677\n",
      "at epoch 63, loss is 1.6765835285186768\n",
      "at epoch 64, loss is 1.6235504150390625\n",
      "at epoch 65, loss is 1.8066383600234985\n",
      "at epoch 66, loss is 1.7156078815460205\n",
      "at epoch 67, loss is 1.829360842704773\n",
      "at epoch 68, loss is 1.749499797821045\n",
      "at epoch 69, loss is 1.6773828268051147\n",
      "at epoch 70, loss is 1.6826214790344238\n",
      "at epoch 71, loss is 1.6155115365982056\n",
      "at epoch 72, loss is 1.7480579614639282\n",
      "at epoch 73, loss is 1.6879894733428955\n",
      "at epoch 74, loss is 1.8086802959442139\n",
      "at epoch 75, loss is 1.741830825805664\n",
      "at epoch 76, loss is 1.8184822797775269\n",
      "at epoch 77, loss is 1.7924638986587524\n",
      "at epoch 78, loss is 1.7493966817855835\n",
      "at epoch 79, loss is 1.6952847242355347\n",
      "at epoch 80, loss is 1.7797163724899292\n",
      "at epoch 81, loss is 1.863585352897644\n",
      "at epoch 82, loss is 1.745565414428711\n",
      "at epoch 83, loss is 1.7928016185760498\n",
      "at epoch 84, loss is 1.638837456703186\n",
      "at epoch 85, loss is 1.6492310762405396\n",
      "at epoch 86, loss is 1.6249165534973145\n",
      "at epoch 87, loss is 1.7065789699554443\n",
      "at epoch 88, loss is 1.8901245594024658\n",
      "at epoch 89, loss is 1.7649717330932617\n",
      "at epoch 90, loss is 1.7865300178527832\n",
      "at epoch 91, loss is 1.8442702293395996\n",
      "at epoch 92, loss is 1.6819546222686768\n",
      "at epoch 93, loss is 1.6472673416137695\n",
      "at epoch 94, loss is 1.7308626174926758\n",
      "at epoch 95, loss is 1.6355094909667969\n",
      "at epoch 96, loss is 1.7956488132476807\n",
      "at epoch 97, loss is 1.782507300376892\n",
      "at epoch 98, loss is 1.7757045030593872\n",
      "at epoch 99, loss is 1.928349494934082\n"
     ]
    }
   ],
   "source": [
    "for i in range(100):\n",
    "    for imgs,labels in train_loader:\n",
    "        tloss=0\n",
    "        imgs=imgs.reshape(-1,28*28).to(device)\n",
    "        labels=(labels).reshape(-1,).to(device)\n",
    "        preds=model(imgs)\n",
    "        loss=loss_fn(preds,labels)\n",
    "        optimizer.zero_grad()\n",
    "        loss.backward()\n",
    "        optimizer.step()\n",
    "        tloss+=loss\n",
    "    print(f\"at epoch {i}, loss is {tloss}\")"
   ]
  },
  {
   "cell_type": "markdown",
   "id": "b660b097",
   "metadata": {},
   "source": [
    "Note here that we keep all ten types of clothes items, and their labels are from 0 to 9. "
   ]
  },
  {
   "cell_type": "markdown",
   "id": "ce701067",
   "metadata": {},
   "source": [
    "## 3.3. Calculate the Accuracy of the Multi-Category Classifier"
   ]
  },
  {
   "cell_type": "markdown",
   "id": "ab05d754",
   "metadata": {},
   "source": [
    "The output from the model prediction is a vector of ten numbers. We need to use *torch.argmax()* to see which clothes item is assigned the highest probability based on the prediction. We then compare the prediction with the actual label. \n",
    "\n",
    "Let's use one single prediction to illustrate. "
   ]
  },
  {
   "cell_type": "code",
   "execution_count": 22,
   "id": "6dd25675",
   "metadata": {},
   "outputs": [
    {
     "name": "stdout",
     "output_type": "stream",
     "text": [
      "the label is 3\n",
      "the prediction is tensor([[0., 0., 0., 1., 0., 0., 0., 0., 0., 0.]], device='cuda:0',\n",
      "       grad_fn=<SoftmaxBackward0>)\n"
     ]
    }
   ],
   "source": [
    "img,label = test_set[42]\n",
    "img=img.reshape(-1,28*28).to(device)\n",
    "pred=model(img)\n",
    "print(f\"the label is {label}\")\n",
    "print(f\"the prediction is {pred}\")"
   ]
  },
  {
   "cell_type": "markdown",
   "id": "17269743",
   "metadata": {},
   "source": [
    "The 43rd item in the test dataset is a dress (with a label of 3). The prediction is a ten-value tensor. We'll use *torch.argmax()* to obtain the position of the highest probability, as follows: "
   ]
  },
  {
   "cell_type": "code",
   "execution_count": 23,
   "id": "5d302540",
   "metadata": {},
   "outputs": [
    {
     "name": "stdout",
     "output_type": "stream",
     "text": [
      "tensor([3], device='cuda:0')\n"
     ]
    }
   ],
   "source": [
    "idex_pred=torch.argmax(pred,dim=1)\n",
    "print(idex_pred)"
   ]
  },
  {
   "cell_type": "markdown",
   "id": "a125943a",
   "metadata": {},
   "source": [
    "The above output shows that the position of the highest probability is 3 (that is, the fourth value in the tensor). We can compare it to the actual label, like so:"
   ]
  },
  {
   "cell_type": "code",
   "execution_count": 24,
   "id": "fdc73b89",
   "metadata": {},
   "outputs": [
    {
     "name": "stdout",
     "output_type": "stream",
     "text": [
      "[ True]\n"
     ]
    }
   ],
   "source": [
    "correct=(idex_pred.detach().cpu().numpy()==label)\n",
    "print(correct)"
   ]
  },
  {
   "cell_type": "markdown",
   "id": "65204c44",
   "metadata": {},
   "source": [
    "The model has made a correct prediction in this case. "
   ]
  },
  {
   "cell_type": "markdown",
   "id": "feb069ea",
   "metadata": {},
   "source": [
    "Now now can calculate the accuracy of the predictions in the whole test dataset as follows:"
   ]
  },
  {
   "cell_type": "code",
   "execution_count": 25,
   "id": "913c6eca",
   "metadata": {},
   "outputs": [
    {
     "name": "stdout",
     "output_type": "stream",
     "text": [
      "the accuracy of the predictions is 0.6937699044585988\n"
     ]
    }
   ],
   "source": [
    "results=[]\n",
    "for imgs,labels in test_loader:\n",
    "    imgs=imgs.reshape(-1,28*28).to(device)\n",
    "    labels=(labels).reshape(-1,).to(device)\n",
    "    preds=model(imgs)\n",
    "    pred10=torch.argmax(preds,dim=1)\n",
    "    correct=(pred10==labels)\n",
    "    results.append(correct.detach().cpu().numpy().mean())\n",
    "accuracy=np.array(results).mean()\n",
    "print(f\"the accuracy of the predictions is {accuracy}\")    "
   ]
  },
  {
   "cell_type": "markdown",
   "id": "77639180",
   "metadata": {},
   "source": [
    "The accuracy is about 70% in the out of sample test. Given that a random guess has an accuracy of about 10%, a 70% accuracy is fairly high. So the neural networks we have built are working well. "
   ]
  }
 ],
 "metadata": {
  "kernelspec": {
   "display_name": "Python 3 (ipykernel)",
   "language": "python",
   "name": "python3"
  },
  "language_info": {
   "codemirror_mode": {
    "name": "ipython",
    "version": 3
   },
   "file_extension": ".py",
   "mimetype": "text/x-python",
   "name": "python",
   "nbconvert_exporter": "python",
   "pygments_lexer": "ipython3",
   "version": "3.11.3"
  }
 },
 "nbformat": 4,
 "nbformat_minor": 5
}
