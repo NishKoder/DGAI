{
 "cells": [
  {
   "cell_type": "markdown",
   "id": "653089c9",
   "metadata": {},
   "source": [
    "# Chapter 1: Install Jupyter Notebook and PyTorch\n",
    "\n",
    "\n",
    "\n",
    "\n",
    "***\n",
    "***“Life is short (You need Python).”***\n",
    "\n",
    "\n",
    "\n",
    "-- Bruce Eckel, author of *Think in Java* and *Think in C++* \n",
    "***"
   ]
  },
  {
   "cell_type": "markdown",
   "id": "54ae7c8b",
   "metadata": {},
   "source": [
    "I assume you have a working knowledge of Python. To follow the content in the book, you need to know the Python basics such as functions, classes, lists, dictionaries and so on. If not, there are plenty of free resources online to get you started. My favorite is the Python tutorial provided by W3Schools (https://www.w3schools.com/python/) and you can get started even without installing Python on your computer. You can run examples on their website through an interactive window.\n",
    "\n",
    "In this chapter, you'll install Python by first installing Anaconda on your computer. You'll then create a virtual environment for this book. We'll use Jupyter Notebook as the interactive development environment (IDE) so you'll also learn how to install it on your computer. \n",
    "\n",
    "All the magic output (text, images, music...) in this book will be generated with deep neural networks. Some networks have a large number of parameters. For example, GPT-4 has 100 trillion parameters. The transformer model we cover in this book has 1.5 billion parameters. Training large neural networks is extremely time-consuming. PyTorch is a library that can train neural networks on GPUs, hence dramatically reducing the training time. Therefore, you'll learn to install PyTorch in this chapter. In case you don't have a CUDA-enabled GPU installed on your computer, all programs in this book are compatible with CPU training as well. Better yet, I'll provide the trained models on the book's GitHub repository https://github.com/markhliu/DGAI so you can see the trained models in action. \n",
    "\n",
    "After that, we'll cover the basics of PyTorch by discussing different data types, tensors, and how to use them. "
   ]
  },
  {
   "cell_type": "markdown",
   "id": "282ad876",
   "metadata": {},
   "source": [
    "# 1. Install Python and Jupyter Notebook"
   ]
  },
  {
   "cell_type": "markdown",
   "id": "d963a4e3",
   "metadata": {},
   "source": [
    "## 1.1. Install Anaconda\n",
    "To install Python via Anaconda, go to the following website https://www.anaconda.com/products/individual and scroll down to the bottom of the page. Then download the latest version of Python 3 for your operating system (Windows, MAC, or Linux), and install it."
   ]
  },
  {
   "cell_type": "markdown",
   "id": "22d2dd43",
   "metadata": {},
   "source": [
    "## 1.2. Create A Virtual Environment\n",
    "It's highly recommended that you create a separate virtual environment for this book. Let’s name the virtual environment *dgai*, as in Demystify Generative AI. Feel free to use a of your choice, but I'll use *dgai* as the example in this book. Enter the following command in the Anaconda prompt (Windows) or a terminal (Mac and Linux):\n",
    "\n",
    "`conda create -n dgai`\n",
    "\n",
    "After pressing the ENTER key on your keyboard, follow the instructions on the screen and press y when the prompt asks you y/n. "
   ]
  },
  {
   "cell_type": "markdown",
   "id": "6d794163",
   "metadata": {},
   "source": [
    "## 1.3. Set Up Jupyter Notebook in the Virtual Environment\n",
    "Now we need to set up Jupyter Notebook in the newly created virtual environment on your computer.\n",
    "First, activate the virtual environment by running the following line of code in the Anaconda prompt (in Windows) or a terminal (in Mac or Linux):\n",
    "\n",
    "`\n",
    "conda ctivate dgai\n",
    "`\n",
    "\n",
    "To install Jupyter Notebook in the virtual environment, run the command \n",
    "\n",
    "`\n",
    "conda install notebook\n",
    "`\n",
    "\n",
    "To launch Jupyter Notebook, execute the following command in the same terminal with the virtual environment activated:\n",
    "\n",
    "`\n",
    "jupyter notebook\n",
    "`"
   ]
  },
  {
   "cell_type": "markdown",
   "id": "56220e33",
   "metadata": {},
   "source": [
    "# 2. Install PyTorch"
   ]
  },
  {
   "cell_type": "markdown",
   "id": "dd4439c5",
   "metadata": {},
   "source": [
    "Generative AI uses deep neural networks, which can have a large number of parameters. For example, the latest version of generative pre-trained transformers (GPTs), GPT-4, has one trillion parameters. As a result, training these models is extremely time-consuming. Training deep neural networks on GPUs can be as much as 50 times faster than doing so on CPUs instead. \n",
    "\n",
    "However, you don't necessarily have to buy a NVIDIA GPU just for this book. You can skip training in certain parts of the book and use pre-trained models to see results. \n",
    "\n",
    "Below, I'll summarize how to install PyTorch with and without GPUs. "
   ]
  },
  {
   "cell_type": "markdown",
   "id": "89ee18ed",
   "metadata": {},
   "source": [
    "## 2.1. Install PyTorch without GPUs"
   ]
  },
  {
   "cell_type": "markdown",
   "id": "4c79fd4a",
   "metadata": {},
   "source": [
    "To install PyTorch with CPU training, first activate the virtual environment by running the following line of code in the Anaconda prompt (in Windows) or a terminal (in Mac or Linux):\n",
    "\n",
    "`\n",
    "conda ctivate dgai\n",
    "`\n",
    "\n",
    "You should be able to see *(dgai)* in front of your prompt, which indicates that you are now in the *dgai* virtual environment. To install PyTorch, issue the following line of command:\n",
    "\n",
    "`\n",
    "pip install pytorch torchaudio torchvision\n",
    "`\n",
    "\n",
    "Follow the on-screen instructions to finish the installation. Here we install three libraries together: PyTorch, Torchaudio, and Torchvision. Torchaudio is a library to process audio and signals and we need it to generate music later in this book. We'll also use the Torchvision library extensively in the book to process images.  "
   ]
  },
  {
   "cell_type": "markdown",
   "id": "348c6ec7",
   "metadata": {},
   "source": [
    "## 2.2. Install PyTorch with GPUs"
   ]
  },
  {
   "cell_type": "markdown",
   "id": "c02e8024",
   "metadata": {},
   "source": [
    "GPU training is only available on Windows or Linux, not on Mac. To install PyTorch with GPU training, first make sure you have a NVIDIA GPU installed on your computer. Then follow the instructions on the PyTorch website here https://pytorch.org/get-started/locally/. \n",
    "\n",
    "For example, I am using Windows operating system, and I first install CUDA toolkit 11.8 by following instructions here https://developer.nvidia.com/cuda-downloads. Then download the CUDA Deep Neural Network libary by following, e.g., instructions from this post https://pub.towardsai.net/installing-pytorch-with-cuda-support-on-windows-10-a38b1134535e. After that, activate the virtual environment by running the following line of code in the Anaconda prompt:\n",
    "\n",
    "`\n",
    "conda ctivate dgai\n",
    "`\n",
    "\n",
    "You should be able to see *(dgai)* in front of your prompt, which indicates that you are now in the *dgai* virtual environment. To install PyTorch, issue the following line of command:\n",
    "\n",
    "`\n",
    "pip3 install torch torchvision torchaudio --index-url https://download.pytorch.org/whl/cu118\n",
    "`\n",
    "\n",
    "Follow the on-screen instructions to finish the installation. Here we install four libraries together: PyTorch, Torchaudio, and Torchvision. Torchaudio is a library to process audio and signals and we need it to generate music later in this book. We'll also use the Torchvision library extensively in the book to process images. Finally, we build from source the prebuilt wheels for CUDA 11.8. Your version of CUDA is likely to change so you should change the installation accordingly. "
   ]
  },
  {
   "cell_type": "markdown",
   "id": "09d36a32",
   "metadata": {},
   "source": [
    "## 2.3. Check PyTorch Installation\n",
    "To make sure you have PyTorch correctly installed, run the following lines of code in a new cell in Jupyter Notebook:"
   ]
  },
  {
   "cell_type": "code",
   "execution_count": 1,
   "id": "8bd852fa",
   "metadata": {},
   "outputs": [
    {
     "name": "stdout",
     "output_type": "stream",
     "text": [
      "cuda\n"
     ]
    }
   ],
   "source": [
    "import torch\n",
    "\n",
    "device=\"cuda\" if torch.cuda.is_available() else \"cpu\"\n",
    "print(device)"
   ]
  },
  {
   "cell_type": "markdown",
   "id": "5ef7cd28",
   "metadata": {},
   "source": [
    "The output above says *cuda*, indicating that GPU training is available on my computer. If you don't have cuda-enabled GPU on your computer, the output is *cpu*. "
   ]
  },
  {
   "cell_type": "markdown",
   "id": "082a60ea",
   "metadata": {},
   "source": [
    "# 3. PyTorch Tensors\n",
    "We'll discuss the data structure in PyTorch in this section by using the age and height of the 46 U.S. presidents as examples. "
   ]
  },
  {
   "cell_type": "markdown",
   "id": "dbba9cd8",
   "metadata": {},
   "source": [
    "## 3.1. Create PyTorch Tensors"
   ]
  },
  {
   "cell_type": "markdown",
   "id": "cc0e3af0",
   "metadata": {},
   "source": [
    "We’ll use datasets from a wide range of sources and formats in this book: text corpus, images, audio clips, or anything really. No matter what the format is, the first step in deep learning is to transform the inputs into arrays of numbers. In PyTorch, these arrays of numbers are called tensors. \n",
    "\n",
    "Let's say that we have collected the heights of the 46 U.S. president in centimeters and stored them in a Python list, as follows:"
   ]
  },
  {
   "cell_type": "code",
   "execution_count": 2,
   "id": "4e263bca",
   "metadata": {},
   "outputs": [],
   "source": [
    "heights = [189, 170, 189, 163, 183, 171, 185,\n",
    "           168, 173, 183, 173, 173, 175, 178,\n",
    "           183, 193, 178, 173, 174, 183, 183,\n",
    "           180, 168, 180, 170, 178, 182, 180,\n",
    "           183, 178, 182, 188, 175, 179, 183,\n",
    "           193, 182, 183, 177, 185, 188, 188,\n",
    "           182, 185, 191, 183]"
   ]
  },
  {
   "cell_type": "markdown",
   "id": "c79c75b3",
   "metadata": {},
   "source": [
    "The numbers are in chronological order: the first value in the list, 189, indicates that the first U.S. president, George Washington, was 189 centimeters tall. The last value shows that Joe Biden's height is 183 centimeters. We can convert a Python list into a PyTorch tensor by using the *tensor()* method in PyTorch, like so:"
   ]
  },
  {
   "cell_type": "code",
   "execution_count": 3,
   "id": "698ba2df",
   "metadata": {},
   "outputs": [],
   "source": [
    "heights_tensor = torch.tensor(heights, dtype=torch.float64)"
   ]
  },
  {
   "cell_type": "markdown",
   "id": "b0346a56",
   "metadata": {},
   "source": [
    "We specify the data type by using the *dtype* argument in the *tensor()* method. The default data type in PyTorch tensors is *float32*, a 32-bit floating-point number. In the above cell, we converted the heights into *float64*, double-precision floating-point numbers. Other data types in PyTorch tensors include:\n",
    "* float16: double-precision floating-point numbers\n",
    "* bool: Booleans or bools, which take values True or False\n",
    "* uint8: unsigned 8-bit integers\n",
    "* int8: signed 8-bit integers\n",
    "* int16: signed 16-bit integers\n",
    "* int32: signed 32-bit integers\n",
    "* int64: signed 64-bit integers"
   ]
  },
  {
   "cell_type": "markdown",
   "id": "a23911b5",
   "metadata": {},
   "source": [
    "Many times, you need to create a PyTorch tensor with values 0 everywhere. For example, to generate a tensor with a shape of two rows and three columns, you can use the *zeros()* method as follows:"
   ]
  },
  {
   "cell_type": "code",
   "execution_count": 4,
   "id": "e41cd400",
   "metadata": {},
   "outputs": [
    {
     "name": "stdout",
     "output_type": "stream",
     "text": [
      "tensor([[0., 0., 0.],\n",
      "        [0., 0., 0.]])\n"
     ]
    }
   ],
   "source": [
    "tensor1 = torch.zeros(2, 3)\n",
    "print(tensor1)"
   ]
  },
  {
   "cell_type": "markdown",
   "id": "b1a514c8",
   "metadata": {},
   "source": [
    "Here, we didn't specify the data type and the output has the default data type of *float32*. To generate a tensor with values 1 everywhere, you can use the *ones()* method like this:"
   ]
  },
  {
   "cell_type": "code",
   "execution_count": 5,
   "id": "4cbe53e3",
   "metadata": {},
   "outputs": [
    {
     "name": "stdout",
     "output_type": "stream",
     "text": [
      "tensor([[[1., 1., 1., 1., 1.],\n",
      "         [1., 1., 1., 1., 1.],\n",
      "         [1., 1., 1., 1., 1.],\n",
      "         [1., 1., 1., 1., 1.]]])\n"
     ]
    }
   ],
   "source": [
    "tensor2 = torch.ones(1,4,5)\n",
    "print(tensor2)"
   ]
  },
  {
   "cell_type": "markdown",
   "id": "08df0fcd",
   "metadata": {},
   "source": [
    "We have generated a 3-dimensional PyTorch tensor. The shapes of the three axes are 1, 4, and 5, respectively. "
   ]
  },
  {
   "cell_type": "markdown",
   "id": "84c2fb60",
   "metadata": {},
   "source": [
    "## 3.2. Index and Slice PyTorch Tensors\n",
    "We use square brackets ([ ]) to index and slice PyTorch tensors, as we do with Python lists. To continue our example of the heights of the 46 U.S. presidents, if we want to access the height of the third president, Thomas Jefferson, we can do the following:"
   ]
  },
  {
   "cell_type": "code",
   "execution_count": 6,
   "id": "7ef10e56",
   "metadata": {},
   "outputs": [
    {
     "name": "stdout",
     "output_type": "stream",
     "text": [
      "tensor(189., dtype=torch.float64)\n"
     ]
    }
   ],
   "source": [
    "height = heights_tensor[2]\n",
    "print(height)"
   ]
  },
  {
   "cell_type": "markdown",
   "id": "53591eea",
   "metadata": {},
   "source": [
    "The output shows that the height of Thomas Jefferson was 189 centimeters tall. We can use negative indexing to count from the back of the tensor. For example, to find out the height of Donald Trump, which is the second to last president in the list, we use index -2, as follows:"
   ]
  },
  {
   "cell_type": "code",
   "execution_count": 7,
   "id": "ec946da8",
   "metadata": {},
   "outputs": [
    {
     "name": "stdout",
     "output_type": "stream",
     "text": [
      "tensor(191., dtype=torch.float64)\n"
     ]
    }
   ],
   "source": [
    "height = heights_tensor[-2]\n",
    "print(height)"
   ]
  },
  {
   "cell_type": "markdown",
   "id": "8f9c3e38",
   "metadata": {},
   "source": [
    "The output shows that Trump's height is 191 centimeters. \n",
    "\n",
    "What if we want to know the heights of the last five presidents in the list? We can obtain a slice of the tensor like this:"
   ]
  },
  {
   "cell_type": "code",
   "execution_count": 8,
   "id": "94638599",
   "metadata": {},
   "outputs": [
    {
     "name": "stdout",
     "output_type": "stream",
     "text": [
      "tensor([188., 182., 185., 191., 183.], dtype=torch.float64)\n"
     ]
    }
   ],
   "source": [
    "five_heights = heights_tensor[-5:]\n",
    "print(five_heights)"
   ]
  },
  {
   "cell_type": "markdown",
   "id": "2c17de15",
   "metadata": {},
   "source": [
    "The results show that the last five presidents in the list (Bush, Clinton, Obama, Trump, and Biden) are 188, 182, 185, 191, and 183 centimeters tall, respectively. "
   ]
  },
  {
   "cell_type": "markdown",
   "id": "cb71a934",
   "metadata": {},
   "source": [
    "## 3.3. PyTorch Tensor Shapes\n",
    "PyTorch tensors has an attribute *shape*, which tells the dimensions of a tensor. For example, if we want to find out the shape of the tensor *heights_tensor*, we can do this:"
   ]
  },
  {
   "cell_type": "code",
   "execution_count": 9,
   "id": "655240c6",
   "metadata": {},
   "outputs": [
    {
     "name": "stdout",
     "output_type": "stream",
     "text": [
      "torch.Size([46])\n"
     ]
    }
   ],
   "source": [
    "print(heights_tensor.shape)"
   ]
  },
  {
   "cell_type": "markdown",
   "id": "9aa9ada0",
   "metadata": {},
   "source": [
    "This tells us that *heights_tensor* is a one-dimensional tensor with 46 values in it. \n",
    "\n",
    "Now, let's convert the heights from centimeters to feet. Since a foot is about 30.48 centimeters, we can accomplish this by dividing the tensor by 30.48:"
   ]
  },
  {
   "cell_type": "code",
   "execution_count": 10,
   "id": "3b09ecf9",
   "metadata": {},
   "outputs": [
    {
     "name": "stdout",
     "output_type": "stream",
     "text": [
      "tensor([6.2008, 5.5774, 6.2008, 5.3478, 6.0039, 5.6102, 6.0696, 5.5118, 5.6759,\n",
      "        6.0039, 5.6759, 5.6759, 5.7415, 5.8399, 6.0039, 6.3320, 5.8399, 5.6759,\n",
      "        5.7087, 6.0039, 6.0039, 5.9055, 5.5118, 5.9055, 5.5774, 5.8399, 5.9711,\n",
      "        5.9055, 6.0039, 5.8399, 5.9711, 6.1680, 5.7415, 5.8727, 6.0039, 6.3320,\n",
      "        5.9711, 6.0039, 5.8071, 6.0696, 6.1680, 6.1680, 5.9711, 6.0696, 6.2664,\n",
      "        6.0039], dtype=torch.float64)\n"
     ]
    }
   ],
   "source": [
    "heights_in_feet = heights_tensor / 30.48\n",
    "print(heights_in_feet)"
   ]
  },
  {
   "cell_type": "markdown",
   "id": "f3d8f241",
   "metadata": {},
   "source": [
    "Now the new tensor, *heights_in_feet*, stores the heights in feet. For example, the last value in the tensor shows that Joe Biden is 6.0039 feet tall. We can use the *cat()* method in PyTorch to concatenate the two tensors:"
   ]
  },
  {
   "cell_type": "code",
   "execution_count": 11,
   "id": "79d9afe4",
   "metadata": {},
   "outputs": [
    {
     "name": "stdout",
     "output_type": "stream",
     "text": [
      "torch.Size([92])\n"
     ]
    }
   ],
   "source": [
    "heights_2_measures = torch.cat(\n",
    "    [heights_tensor,heights_in_feet], dim=0)\n",
    "print(heights_2_measures.shape)"
   ]
  },
  {
   "cell_type": "markdown",
   "id": "a16e5156",
   "metadata": {},
   "source": [
    "The resulting tensor is one-dimensional with 92 values. We can reshape it into two rows and 46 columns so that the first row represents heights in centimeters and the second in feet:"
   ]
  },
  {
   "cell_type": "code",
   "execution_count": 12,
   "id": "b6309b53",
   "metadata": {},
   "outputs": [
    {
     "name": "stdout",
     "output_type": "stream",
     "text": [
      "tensor([[189.0000, 170.0000, 189.0000, 163.0000, 183.0000, 171.0000, 185.0000,\n",
      "         168.0000, 173.0000, 183.0000, 173.0000, 173.0000, 175.0000, 178.0000,\n",
      "         183.0000, 193.0000, 178.0000, 173.0000, 174.0000, 183.0000, 183.0000,\n",
      "         180.0000, 168.0000, 180.0000, 170.0000, 178.0000, 182.0000, 180.0000,\n",
      "         183.0000, 178.0000, 182.0000, 188.0000, 175.0000, 179.0000, 183.0000,\n",
      "         193.0000, 182.0000, 183.0000, 177.0000, 185.0000, 188.0000, 188.0000,\n",
      "         182.0000, 185.0000, 191.0000, 183.0000],\n",
      "        [  6.2008,   5.5774,   6.2008,   5.3478,   6.0039,   5.6102,   6.0696,\n",
      "           5.5118,   5.6759,   6.0039,   5.6759,   5.6759,   5.7415,   5.8399,\n",
      "           6.0039,   6.3320,   5.8399,   5.6759,   5.7087,   6.0039,   6.0039,\n",
      "           5.9055,   5.5118,   5.9055,   5.5774,   5.8399,   5.9711,   5.9055,\n",
      "           6.0039,   5.8399,   5.9711,   6.1680,   5.7415,   5.8727,   6.0039,\n",
      "           6.3320,   5.9711,   6.0039,   5.8071,   6.0696,   6.1680,   6.1680,\n",
      "           5.9711,   6.0696,   6.2664,   6.0039]], dtype=torch.float64)\n"
     ]
    }
   ],
   "source": [
    "heights_reshaped = heights_2_measures.reshape(2, 46)\n",
    "print(heights_reshaped)"
   ]
  },
  {
   "cell_type": "markdown",
   "id": "e28c5f0e",
   "metadata": {},
   "source": [
    "The new tensor, *heights_reshaped*, is two-dimensional now. We can print out its shape and size as follows:"
   ]
  },
  {
   "cell_type": "code",
   "execution_count": 13,
   "id": "1d3caf3f",
   "metadata": {},
   "outputs": [
    {
     "name": "stdout",
     "output_type": "stream",
     "text": [
      "torch.Size([2, 46])\n"
     ]
    }
   ],
   "source": [
    "print(heights_reshaped.shape)"
   ]
  },
  {
   "cell_type": "markdown",
   "id": "4426396e",
   "metadata": {},
   "source": [
    "The tensor, *heights_reshaped*, has a shape of 2 by 46: the axis 0 has two values and the axis 1 has 46 values. We can index and slice multi-dimensional tensors using the square bracket. For example, to print out the height of Trump in feet, we can do this:"
   ]
  },
  {
   "cell_type": "code",
   "execution_count": 14,
   "id": "3dabf988",
   "metadata": {},
   "outputs": [
    {
     "name": "stdout",
     "output_type": "stream",
     "text": [
      "tensor(6.2664, dtype=torch.float64)\n"
     ]
    }
   ],
   "source": [
    "print(heights_reshaped[1,-2])"
   ]
  },
  {
   "cell_type": "markdown",
   "id": "a8c52b83",
   "metadata": {},
   "source": [
    "The command *heights_reshaped[1,-2]* tells Python to look for the value in the second row, the second to last column, which returns Trump's height in feet, 6.2664. "
   ]
  },
  {
   "cell_type": "markdown",
   "id": "cada6b34",
   "metadata": {},
   "source": [
    "## 3.4. Mathematical Operations on PyTorch Tensors\n",
    "We can conduct mathematical operations on PyTorch tensors by using different methods such as mean(), median(), sum(), max(), and so on. For example, to find the median height of the 46 presidents in centimeters, we can do this:"
   ]
  },
  {
   "cell_type": "code",
   "execution_count": 15,
   "id": "599a0d66",
   "metadata": {},
   "outputs": [
    {
     "name": "stdout",
     "output_type": "stream",
     "text": [
      "tensor(182., dtype=torch.float64)\n"
     ]
    }
   ],
   "source": [
    "print(torch.median(heights_reshaped[0,:]))"
   ]
  },
  {
   "cell_type": "markdown",
   "id": "146008fe",
   "metadata": {},
   "source": [
    "To find out the average height in both rows, we can use the *dim=1* argument in the *mean()* method:"
   ]
  },
  {
   "cell_type": "code",
   "execution_count": 16,
   "id": "c27cfac4",
   "metadata": {},
   "outputs": [
    {
     "name": "stdout",
     "output_type": "stream",
     "text": [
      "tensor([180.0652,   5.9077], dtype=torch.float64)\n"
     ]
    }
   ],
   "source": [
    "print(torch.mean(heights_reshaped,dim=1))"
   ]
  },
  {
   "cell_type": "markdown",
   "id": "fc7b6992",
   "metadata": {},
   "source": [
    "The results show that the average height is 180.0652 centimeters, or equivalently, 5.9077 feet. \n",
    "\n",
    "To find out the tallest president, we can do this:"
   ]
  },
  {
   "cell_type": "code",
   "execution_count": 17,
   "id": "a84dadb6",
   "metadata": {},
   "outputs": [
    {
     "name": "stdout",
     "output_type": "stream",
     "text": [
      "tensor([193.0000,   6.3320], dtype=torch.float64)\n",
      "tensor([15, 15])\n"
     ]
    }
   ],
   "source": [
    "values, indices = torch.max(heights_reshaped, dim=1)\n",
    "print(values)\n",
    "print(indices)"
   ]
  },
  {
   "cell_type": "markdown",
   "id": "5a9b3720",
   "metadata": {},
   "source": [
    "The *torch.max()* method returns two tensors: a tensor *values* with the tallest president's height in centimeters and in feet, and a tensor *indices* with the indexes of the president with the maximum height. The results show that the 16th president (Lincoln) is the tallest, at 193 centimeters, or 6.332 feet. "
   ]
  },
  {
   "cell_type": "markdown",
   "id": "887d0234",
   "metadata": {},
   "source": [
    "# 4. Calculate Gradients in PyTorch\n",
    "Machine learning can be summarized in three words: initialize, adjust, and repeat. In the first step, a machine learning model assigns values to parameters (initialize). In the second step, the model makes predictions based on the parameters and compares predictions with the actual values, i.e., labels; it changes the parameters so that the predictions will move closer to the actual values (adjust); Finally, the model repeats step 2 many iterations until the parameters converge (repeat).\n",
    "\n",
    "The question is: how should the model adjust the parameters? The answer lies in the gradient decent algorithm: in each iteration, the model adjusts the parameters by $-lr*gradient$, where lr is the learning rate, and *gradient* is the gradient of the parameters at the current value. \n",
    "\n",
    "Below, we'll use a simple example to show how PyTorch tensors automatically keep track of the gradients so the optimization problem becomes easy to implement. "
   ]
  },
  {
   "cell_type": "markdown",
   "id": "80af4107",
   "metadata": {},
   "source": [
    "## 4.1. Set Up the Problem\n",
    "Assume that you generated dataset $(x, y)$ and the true relation between the two is $$y = x^2-3x+2$$ and we know the relation is quadratic but don't know the exact functional form. That is, we know the relation between $x$ and $y$ is $$y = ax^2+bx+c$$ but we need to use the gradient decent algorithm to estimate the parameters a, b, and c.  \n",
    "\n",
    "Let's first generate the data as follows:"
   ]
  },
  {
   "cell_type": "code",
   "execution_count": 18,
   "id": "50b6bbda",
   "metadata": {},
   "outputs": [],
   "source": [
    "x=torch.linspace(-10,10,1000)\n",
    "y=x**2-3*x+2"
   ]
  },
  {
   "cell_type": "markdown",
   "id": "a3a52ad3",
   "metadata": {},
   "source": [
    "In the above code cell, the *linspace()* method generates 1000 data points between -10 and 10, evenly spaced. We can plot the y against x by using the *matplotlib* library. If you haven't installed the *matplotlib* library on your computer, run this line of code in a new cell"
   ]
  },
  {
   "cell_type": "code",
   "execution_count": 19,
   "id": "248c1d1c",
   "metadata": {},
   "outputs": [],
   "source": [
    "!pip install matplotlib"
   ]
  },
  {
   "cell_type": "markdown",
   "id": "c0ef1cca",
   "metadata": {},
   "source": [
    "To plot the true relation between x and y, run the following code cell:"
   ]
  },
  {
   "cell_type": "code",
   "execution_count": 20,
   "id": "7348b3d8",
   "metadata": {},
   "outputs": [
    {
     "data": {
      "text/plain": [
       "[<matplotlib.lines.Line2D at 0x2cfe7f1de90>]"
      ]
     },
     "execution_count": 19,
     "metadata": {},
     "output_type": "execute_result"
    },
    {
     "data": {
      "image/png": "[encoded data removed]",
      "text/plain": [
       "<Figure size 640x480 with 1 Axes>"
      ]
     },
     "metadata": {},
     "output_type": "display_data"
    }
   ],
   "source": [
    "import matplotlib.pyplot as plt\n",
    "import os\n",
    "os.environ[\"KMP_DUPLICATE_LIB_OK\"]=\"TRUE\"\n",
    "\n",
    "plt.plot(x,y)"
   ]
  },
  {
   "cell_type": "markdown",
   "id": "8594a7a1",
   "metadata": {},
   "source": [
    "Next, we'll estimate the values of a, b, and c in $y = ax^2+bx+c$ by using the gradient decent algorithm. "
   ]
  },
  {
   "cell_type": "markdown",
   "id": "bacb21b5",
   "metadata": {},
   "source": [
    "## 4.2. Implement the Gradient Decent Algorithm"
   ]
  },
  {
   "cell_type": "markdown",
   "id": "3b58fa69",
   "metadata": {},
   "source": [
    "We first randomly initialize the parameter values by using the *randn()* method in PyTorch:"
   ]
  },
  {
   "cell_type": "code",
   "execution_count": 21,
   "id": "895df379",
   "metadata": {},
   "outputs": [
    {
     "name": "stdout",
     "output_type": "stream",
     "text": [
      "tensor(2.3932, requires_grad=True)\n",
      "tensor(0.7542, requires_grad=True)\n",
      "tensor(-0.8126, requires_grad=True)\n"
     ]
    }
   ],
   "source": [
    "a=torch.randn((),requires_grad=True)\n",
    "b=torch.randn((),requires_grad=True)\n",
    "c=torch.randn((),requires_grad=True)\n",
    "print(a)\n",
    "print(b)\n",
    "print(c)"
   ]
  },
  {
   "cell_type": "markdown",
   "id": "49380d33",
   "metadata": {},
   "source": [
    "We set the learning rate at 0.00001. Learning rate is a hyperparameter in machine learning that governs how fast we adjust the parameters. "
   ]
  },
  {
   "cell_type": "code",
   "execution_count": 22,
   "id": "aefd900c",
   "metadata": {},
   "outputs": [],
   "source": [
    "lr=0.00001"
   ]
  },
  {
   "cell_type": "markdown",
   "id": "44fffac3",
   "metadata": {},
   "source": [
    "Next, we define a *train_epoch()* function to adjust the parameters once by using the gradient decent algorithm:"
   ]
  },
  {
   "cell_type": "code",
   "execution_count": 23,
   "id": "892350dc",
   "metadata": {},
   "outputs": [],
   "source": [
    "def train_epoch():\n",
    "    global a,b,c\n",
    "    # make predictions based on the current parameters\n",
    "    predictions=a*(x**2)+b*x+c\n",
    "    # calculate mean squared error\n",
    "    loss=((predictions-y)**2).mean()\n",
    "    # calculate the gradient of loss w.r.t. parameters\n",
    "    loss.backward()\n",
    "    # manually update the parameters \n",
    "    with torch.no_grad():\n",
    "        a -= lr*a.grad\n",
    "        b -= lr*b.grad        \n",
    "        c -= lr*c.grad        \n",
    "        # set gradient to zero after updating\n",
    "        a.grad=None\n",
    "        b.grad=None        \n",
    "        c.grad=None        \n",
    "    return loss.item()"
   ]
  },
  {
   "cell_type": "markdown",
   "id": "645ab677",
   "metadata": {},
   "source": [
    "We calculate the prediction of y based on current parameters. We then calculate the mean squared error loss. The *backward()* method calculates the gradient of the loss with respect to the parameters automatically for us. \n",
    "\n",
    "Next, we train the model for 10000 epochs, like this:"
   ]
  },
  {
   "cell_type": "code",
   "execution_count": 24,
   "id": "495291aa",
   "metadata": {
    "scrolled": false
   },
   "outputs": [
    {
     "name": "stdout",
     "output_type": "stream",
     "text": [
      "at epoch 100, loss is 417.0484313964844\n",
      "at epoch 200, loss is 364.3667297363281\n",
      "at epoch 300, loss is 319.2234191894531\n",
      "at epoch 400, loss is 279.72698974609375\n",
      "at epoch 500, loss is 245.1707763671875\n",
      "at epoch 600, loss is 214.9367218017578\n",
      "at epoch 700, loss is 188.4841766357422\n",
      "at epoch 800, loss is 165.34002685546875\n",
      "at epoch 900, loss is 145.09043884277344\n",
      "at epoch 1000, loss is 127.37327575683594\n",
      "at epoch 1100, loss is 111.87175750732422\n",
      "at epoch 1200, loss is 98.30870819091797\n",
      "at epoch 1300, loss is 86.44152069091797\n",
      "at epoch 1400, loss is 76.0582275390625\n",
      "at epoch 1500, loss is 66.97306823730469\n",
      "at epoch 1600, loss is 59.02377700805664\n",
      "at epoch 1700, loss is 52.06813049316406\n",
      "at epoch 1800, loss is 45.981849670410156\n",
      "at epoch 1900, loss is 40.6561393737793\n",
      "at epoch 2000, loss is 35.99599838256836\n",
      "at epoch 2100, loss is 31.918088912963867\n",
      "at epoch 2200, loss is 28.349590301513672\n",
      "at epoch 2300, loss is 25.226720809936523\n",
      "at epoch 2400, loss is 22.49380874633789\n",
      "at epoch 2500, loss is 20.101991653442383\n",
      "at epoch 2600, loss is 18.00865936279297\n",
      "at epoch 2700, loss is 16.17644500732422\n",
      "at epoch 2800, loss is 14.572670936584473\n",
      "at epoch 2900, loss is 13.168802261352539\n",
      "at epoch 3000, loss is 11.939715385437012\n",
      "at epoch 3100, loss is 10.863734245300293\n",
      "at epoch 3200, loss is 9.921615600585938\n",
      "at epoch 3300, loss is 9.096607208251953\n",
      "at epoch 3400, loss is 8.374092102050781\n",
      "at epoch 3500, loss is 7.741206645965576\n",
      "at epoch 3600, loss is 7.18676233291626\n",
      "at epoch 3700, loss is 6.700940132141113\n",
      "at epoch 3800, loss is 6.275148391723633\n",
      "at epoch 3900, loss is 5.901895999908447\n",
      "at epoch 4000, loss is 5.574599742889404\n",
      "at epoch 4100, loss is 5.287522792816162\n",
      "at epoch 4200, loss is 5.035645008087158\n",
      "at epoch 4300, loss is 4.814539432525635\n",
      "at epoch 4400, loss is 4.6203718185424805\n",
      "at epoch 4500, loss is 4.449775218963623\n",
      "at epoch 4600, loss is 4.299785137176514\n",
      "at epoch 4700, loss is 4.167844295501709\n",
      "at epoch 4800, loss is 4.0516886711120605\n",
      "at epoch 4900, loss is 3.949338674545288\n",
      "at epoch 5000, loss is 3.8590760231018066\n",
      "at epoch 5100, loss is 3.779392957687378\n",
      "at epoch 5200, loss is 3.7089598178863525\n",
      "at epoch 5300, loss is 3.6466240882873535\n",
      "at epoch 5400, loss is 3.5913779735565186\n",
      "at epoch 5500, loss is 3.5423195362091064\n",
      "at epoch 5600, loss is 3.4986941814422607\n",
      "at epoch 5700, loss is 3.459813117980957\n",
      "at epoch 5800, loss is 3.425086736679077\n",
      "at epoch 5900, loss is 3.3940045833587646\n",
      "at epoch 6000, loss is 3.366102457046509\n",
      "at epoch 6100, loss is 3.340986490249634\n",
      "at epoch 6200, loss is 3.3183109760284424\n",
      "at epoch 6300, loss is 3.297766923904419\n",
      "at epoch 6400, loss is 3.27909517288208\n",
      "at epoch 6500, loss is 3.2620601654052734\n",
      "at epoch 6600, loss is 3.2464544773101807\n",
      "at epoch 6700, loss is 3.232107400894165\n",
      "at epoch 6800, loss is 3.218860626220703\n",
      "at epoch 6900, loss is 3.206568956375122\n",
      "at epoch 7000, loss is 3.1951310634613037\n",
      "at epoch 7100, loss is 3.1844277381896973\n",
      "at epoch 7200, loss is 3.174370050430298\n",
      "at epoch 7300, loss is 3.1648871898651123\n",
      "at epoch 7400, loss is 3.1558988094329834\n",
      "at epoch 7500, loss is 3.1473448276519775\n",
      "at epoch 7600, loss is 3.1391820907592773\n",
      "at epoch 7700, loss is 3.1313512325286865\n",
      "at epoch 7800, loss is 3.1238160133361816\n",
      "at epoch 7900, loss is 3.1165459156036377\n",
      "at epoch 8000, loss is 3.10949969291687\n",
      "at epoch 8100, loss is 3.102656364440918\n",
      "at epoch 8200, loss is 3.0959928035736084\n",
      "at epoch 8300, loss is 3.0894811153411865\n",
      "at epoch 8400, loss is 3.0831117630004883\n",
      "at epoch 8500, loss is 3.0768635272979736\n",
      "at epoch 8600, loss is 3.0707192420959473\n",
      "at epoch 8700, loss is 3.064676523208618\n",
      "at epoch 8800, loss is 3.0587165355682373\n",
      "at epoch 8900, loss is 3.0528271198272705\n",
      "at epoch 9000, loss is 3.0470130443573\n",
      "at epoch 9100, loss is 3.0412566661834717\n",
      "at epoch 9200, loss is 3.0355472564697266\n",
      "at epoch 9300, loss is 3.0298967361450195\n",
      "at epoch 9400, loss is 3.0242831707000732\n",
      "at epoch 9500, loss is 3.018705129623413\n",
      "at epoch 9600, loss is 3.0131711959838867\n",
      "at epoch 9700, loss is 3.0076653957366943\n",
      "at epoch 9800, loss is 3.0021870136260986\n",
      "at epoch 9900, loss is 2.9967386722564697\n",
      "at epoch 10000, loss is 2.99131178855896\n"
     ]
    }
   ],
   "source": [
    "for epoch in range(1,10001,1):\n",
    "    epoch_loss=train_epoch()\n",
    "    if epoch%100==0:\n",
    "        print(f\"at epoch {epoch}, loss is {epoch_loss}\")"
   ]
  },
  {
   "cell_type": "markdown",
   "id": "e31ac4ed",
   "metadata": {},
   "source": [
    "Now that the model is trained (that is, we have estimated the values of a, b, and c), we can see how close the prediction relative to the true values:"
   ]
  },
  {
   "cell_type": "code",
   "execution_count": 25,
   "id": "42fa5a24",
   "metadata": {},
   "outputs": [
    {
     "data": {
      "image/png": "[encoded data removed]",
      "text/plain": [
       "<Figure size 640x480 with 1 Axes>"
      ]
     },
     "metadata": {},
     "output_type": "display_data"
    }
   ],
   "source": [
    "# predict the functional form\n",
    "predictions=a*(x**2)+b*x+c\n",
    "# plot the true shape in red\n",
    "plt.plot(x,y,c=\"r\",label=\"true values\")\n",
    "# plot the estimated shape in blue\n",
    "plt.plot(x,predictions.detach(),c=\"b\",label=\"predicted values\")\n",
    "plt.legend()\n",
    "plt.show()"
   ]
  },
  {
   "cell_type": "markdown",
   "id": "fb21ae4e",
   "metadata": {},
   "source": [
    "As you can see, the estimation does a fairly good job of approximating the true relation between x and y. "
   ]
  }
 ],
 "metadata": {
  "kernelspec": {
   "display_name": "Python 3 (ipykernel)",
   "language": "python",
   "name": "python3"
  },
  "language_info": {
   "codemirror_mode": {
    "name": "ipython",
    "version": 3
   },
   "file_extension": ".py",
   "mimetype": "text/x-python",
   "name": "python",
   "nbconvert_exporter": "python",
   "pygments_lexer": "ipython3",
   "version": "3.11.3"
  }
 },
 "nbformat": 4,
 "nbformat_minor": 5
}
